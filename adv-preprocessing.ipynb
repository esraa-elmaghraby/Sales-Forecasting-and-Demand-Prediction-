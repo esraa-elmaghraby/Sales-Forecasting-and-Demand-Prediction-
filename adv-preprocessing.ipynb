{
 "cells": [
  {
   "cell_type": "markdown",
   "id": "a63e1977-36bc-453d-81d5-5157a2e87a8a",
   "metadata": {},
   "source": [
    "# Data Cleaning"
   ]
  },
  {
   "cell_type": "code",
   "execution_count": 1,
   "id": "68f126de-4309-4b39-90b3-45c04e0d18d9",
   "metadata": {},
   "outputs": [
    {
     "name": "stdout",
     "output_type": "stream",
     "text": [
      "Requirement already satisfied: sklearn.preprocessing in c:\\users\\esraa\\anaconda3\\lib\\site-packages (0.1.0)\n"
     ]
    },
    {
     "data": {
      "text/plain": [
       "'2.2.3'"
      ]
     },
     "execution_count": 1,
     "metadata": {},
     "output_type": "execute_result"
    }
   ],
   "source": [
    "!pip install sklearn.preprocessing\n",
    "from sklearn.preprocessing import LabelEncoder \n",
    "import warnings\n",
    "warnings.filterwarnings(\"ignore\")\n",
    "import matplotlib.pyplot as plt\n",
    "import seaborn as sns\n",
    "import numpy as np\n",
    "import pandas as pd\n",
    "pd.__version__"
   ]
  },
  {
   "cell_type": "markdown",
   "id": "afbd7deb-bc74-4974-9648-e340febd983c",
   "metadata": {},
   "source": [
    "## test.csv"
   ]
  },
  {
   "cell_type": "code",
   "execution_count": 350,
   "id": "0e50dd42-3f9b-4c5c-9f70-dcb67ef5b731",
   "metadata": {},
   "outputs": [],
   "source": [
    "test= pd.read_csv('Data/test.csv')"
   ]
  },
  {
   "cell_type": "code",
   "execution_count": 352,
   "id": "d9552341-40d5-48ab-98ad-84617ee233b1",
   "metadata": {},
   "outputs": [
    {
     "data": {
      "text/html": [
       "<div>\n",
       "<style scoped>\n",
       "    .dataframe tbody tr th:only-of-type {\n",
       "        vertical-align: middle;\n",
       "    }\n",
       "\n",
       "    .dataframe tbody tr th {\n",
       "        vertical-align: top;\n",
       "    }\n",
       "\n",
       "    .dataframe thead th {\n",
       "        text-align: right;\n",
       "    }\n",
       "</style>\n",
       "<table border=\"1\" class=\"dataframe\">\n",
       "  <thead>\n",
       "    <tr style=\"text-align: right;\">\n",
       "      <th></th>\n",
       "      <th>id</th>\n",
       "      <th>date</th>\n",
       "      <th>store_nbr</th>\n",
       "      <th>item_nbr</th>\n",
       "      <th>onpromotion</th>\n",
       "    </tr>\n",
       "  </thead>\n",
       "  <tbody>\n",
       "    <tr>\n",
       "      <th>0</th>\n",
       "      <td>125497040</td>\n",
       "      <td>2017-08-16</td>\n",
       "      <td>1</td>\n",
       "      <td>96995</td>\n",
       "      <td>False</td>\n",
       "    </tr>\n",
       "    <tr>\n",
       "      <th>1</th>\n",
       "      <td>125497041</td>\n",
       "      <td>2017-08-16</td>\n",
       "      <td>1</td>\n",
       "      <td>99197</td>\n",
       "      <td>False</td>\n",
       "    </tr>\n",
       "    <tr>\n",
       "      <th>2</th>\n",
       "      <td>125497042</td>\n",
       "      <td>2017-08-16</td>\n",
       "      <td>1</td>\n",
       "      <td>103501</td>\n",
       "      <td>False</td>\n",
       "    </tr>\n",
       "    <tr>\n",
       "      <th>3</th>\n",
       "      <td>125497043</td>\n",
       "      <td>2017-08-16</td>\n",
       "      <td>1</td>\n",
       "      <td>103520</td>\n",
       "      <td>False</td>\n",
       "    </tr>\n",
       "    <tr>\n",
       "      <th>4</th>\n",
       "      <td>125497044</td>\n",
       "      <td>2017-08-16</td>\n",
       "      <td>1</td>\n",
       "      <td>103665</td>\n",
       "      <td>False</td>\n",
       "    </tr>\n",
       "    <tr>\n",
       "      <th>5</th>\n",
       "      <td>125497045</td>\n",
       "      <td>2017-08-16</td>\n",
       "      <td>1</td>\n",
       "      <td>105574</td>\n",
       "      <td>False</td>\n",
       "    </tr>\n",
       "    <tr>\n",
       "      <th>6</th>\n",
       "      <td>125497046</td>\n",
       "      <td>2017-08-16</td>\n",
       "      <td>1</td>\n",
       "      <td>105575</td>\n",
       "      <td>False</td>\n",
       "    </tr>\n",
       "    <tr>\n",
       "      <th>7</th>\n",
       "      <td>125497047</td>\n",
       "      <td>2017-08-16</td>\n",
       "      <td>1</td>\n",
       "      <td>105576</td>\n",
       "      <td>False</td>\n",
       "    </tr>\n",
       "    <tr>\n",
       "      <th>8</th>\n",
       "      <td>125497048</td>\n",
       "      <td>2017-08-16</td>\n",
       "      <td>1</td>\n",
       "      <td>105577</td>\n",
       "      <td>False</td>\n",
       "    </tr>\n",
       "    <tr>\n",
       "      <th>9</th>\n",
       "      <td>125497049</td>\n",
       "      <td>2017-08-16</td>\n",
       "      <td>1</td>\n",
       "      <td>105693</td>\n",
       "      <td>False</td>\n",
       "    </tr>\n",
       "  </tbody>\n",
       "</table>\n",
       "</div>"
      ],
      "text/plain": [
       "          id        date  store_nbr  item_nbr  onpromotion\n",
       "0  125497040  2017-08-16          1     96995        False\n",
       "1  125497041  2017-08-16          1     99197        False\n",
       "2  125497042  2017-08-16          1    103501        False\n",
       "3  125497043  2017-08-16          1    103520        False\n",
       "4  125497044  2017-08-16          1    103665        False\n",
       "5  125497045  2017-08-16          1    105574        False\n",
       "6  125497046  2017-08-16          1    105575        False\n",
       "7  125497047  2017-08-16          1    105576        False\n",
       "8  125497048  2017-08-16          1    105577        False\n",
       "9  125497049  2017-08-16          1    105693        False"
      ]
     },
     "execution_count": 352,
     "metadata": {},
     "output_type": "execute_result"
    }
   ],
   "source": [
    "test.head(10)"
   ]
  },
  {
   "cell_type": "code",
   "execution_count": 354,
   "id": "280c9f7a-b568-4bf5-8588-fc63fa969d5f",
   "metadata": {},
   "outputs": [
    {
     "data": {
      "text/plain": [
       "(3370464, 5)"
      ]
     },
     "execution_count": 354,
     "metadata": {},
     "output_type": "execute_result"
    }
   ],
   "source": [
    "test.shape"
   ]
  },
  {
   "cell_type": "code",
   "execution_count": 356,
   "id": "eb58ad10-ebc7-49e2-9065-491ae75bd4f1",
   "metadata": {},
   "outputs": [
    {
     "data": {
      "text/plain": [
       "id              int64\n",
       "date           object\n",
       "store_nbr       int64\n",
       "item_nbr        int64\n",
       "onpromotion      bool\n",
       "dtype: object"
      ]
     },
     "execution_count": 356,
     "metadata": {},
     "output_type": "execute_result"
    }
   ],
   "source": [
    "test.dtypes"
   ]
  },
  {
   "cell_type": "code",
   "execution_count": 358,
   "id": "3a59830d-4c62-4fdf-9cb0-c4010a9608ad",
   "metadata": {},
   "outputs": [
    {
     "data": {
      "text/plain": [
       "0          0\n",
       "1          0\n",
       "2          0\n",
       "3          0\n",
       "4          0\n",
       "          ..\n",
       "3370459    0\n",
       "3370460    0\n",
       "3370461    0\n",
       "3370462    0\n",
       "3370463    0\n",
       "Name: onpromotion, Length: 3370464, dtype: int32"
      ]
     },
     "execution_count": 358,
     "metadata": {},
     "output_type": "execute_result"
    }
   ],
   "source": [
    "test['onpromotion'] = test['onpromotion'].astype(int)\n",
    "test['onpromotion'] "
   ]
  },
  {
   "cell_type": "code",
   "execution_count": 360,
   "id": "49ea5cac-7a88-43e0-9879-a7528b53abef",
   "metadata": {},
   "outputs": [
    {
     "data": {
      "text/plain": [
       "0         2017-08-16\n",
       "1         2017-08-16\n",
       "2         2017-08-16\n",
       "3         2017-08-16\n",
       "4         2017-08-16\n",
       "             ...    \n",
       "3370459   2017-08-31\n",
       "3370460   2017-08-31\n",
       "3370461   2017-08-31\n",
       "3370462   2017-08-31\n",
       "3370463   2017-08-31\n",
       "Name: date, Length: 3370464, dtype: datetime64[ns]"
      ]
     },
     "execution_count": 360,
     "metadata": {},
     "output_type": "execute_result"
    }
   ],
   "source": [
    "test['date']=pd.to_datetime(test['date'] , format= '%Y-%m-%d')\n",
    "test['date']"
   ]
  },
  {
   "cell_type": "code",
   "execution_count": 362,
   "id": "767a39c8-b23a-42ba-93d1-b19ba47f10f8",
   "metadata": {},
   "outputs": [
    {
     "name": "stdout",
     "output_type": "stream",
     "text": [
      "id             0\n",
      "date           0\n",
      "store_nbr      0\n",
      "item_nbr       0\n",
      "onpromotion    0\n",
      "dtype: int64\n"
     ]
    }
   ],
   "source": [
    "print(test.isnull().sum())"
   ]
  },
  {
   "cell_type": "code",
   "execution_count": 364,
   "id": "8f8acce7-5e56-4c8b-b27e-6ee5cf309079",
   "metadata": {},
   "outputs": [
    {
     "data": {
      "text/plain": [
       "0"
      ]
     },
     "execution_count": 364,
     "metadata": {},
     "output_type": "execute_result"
    }
   ],
   "source": [
    "duplicates = test.duplicated().sum()\n",
    "duplicates"
   ]
  },
  {
   "cell_type": "code",
   "execution_count": 365,
   "id": "87b50bfd-8e01-43fb-afcb-353ba4facd63",
   "metadata": {},
   "outputs": [],
   "source": [
    "test.drop(columns=['id'], inplace=True)"
   ]
  },
  {
   "cell_type": "code",
   "execution_count": 368,
   "id": "180efd25-512f-454b-8e06-aef6fd40ba76",
   "metadata": {},
   "outputs": [],
   "source": [
    "# time based features\n",
    "test['year'] = test['date'].dt.year\n",
    "test['month'] = test['date'].dt.month\n",
    "test['is_weekend'] = test['date'].dt.dayofweek >= 5\n",
    "test['is_weekend'] = test['is_weekend'].astype(int)\n",
    "test['day'] = test['date'].dt.day\n",
    "test['dayofweek'] = test['date'].dt.dayofweek\n",
    "test['weekofyear'] = test['date'].dt.isocalendar().week\n",
    "test['quarter'] = test['date'].dt.quarter"
   ]
  },
  {
   "cell_type": "code",
   "execution_count": 321,
   "id": "ec5917eb-270f-4b1e-93bf-0f136104e851",
   "metadata": {},
   "outputs": [
    {
     "data": {
      "text/html": [
       "<div>\n",
       "<style scoped>\n",
       "    .dataframe tbody tr th:only-of-type {\n",
       "        vertical-align: middle;\n",
       "    }\n",
       "\n",
       "    .dataframe tbody tr th {\n",
       "        vertical-align: top;\n",
       "    }\n",
       "\n",
       "    .dataframe thead th {\n",
       "        text-align: right;\n",
       "    }\n",
       "</style>\n",
       "<table border=\"1\" class=\"dataframe\">\n",
       "  <thead>\n",
       "    <tr style=\"text-align: right;\">\n",
       "      <th></th>\n",
       "      <th>date</th>\n",
       "      <th>store_nbr</th>\n",
       "      <th>item_nbr</th>\n",
       "      <th>onpromotion</th>\n",
       "      <th>year</th>\n",
       "      <th>month</th>\n",
       "      <th>is_weekend</th>\n",
       "      <th>day</th>\n",
       "      <th>dayofweek</th>\n",
       "      <th>weekofyear</th>\n",
       "      <th>quarter</th>\n",
       "    </tr>\n",
       "  </thead>\n",
       "  <tbody>\n",
       "    <tr>\n",
       "      <th>0</th>\n",
       "      <td>2017-08-16</td>\n",
       "      <td>1</td>\n",
       "      <td>96995</td>\n",
       "      <td>0</td>\n",
       "      <td>2017</td>\n",
       "      <td>8</td>\n",
       "      <td>0</td>\n",
       "      <td>16</td>\n",
       "      <td>2</td>\n",
       "      <td>33</td>\n",
       "      <td>3</td>\n",
       "    </tr>\n",
       "    <tr>\n",
       "      <th>1</th>\n",
       "      <td>2017-08-16</td>\n",
       "      <td>1</td>\n",
       "      <td>99197</td>\n",
       "      <td>0</td>\n",
       "      <td>2017</td>\n",
       "      <td>8</td>\n",
       "      <td>0</td>\n",
       "      <td>16</td>\n",
       "      <td>2</td>\n",
       "      <td>33</td>\n",
       "      <td>3</td>\n",
       "    </tr>\n",
       "    <tr>\n",
       "      <th>2</th>\n",
       "      <td>2017-08-16</td>\n",
       "      <td>1</td>\n",
       "      <td>103501</td>\n",
       "      <td>0</td>\n",
       "      <td>2017</td>\n",
       "      <td>8</td>\n",
       "      <td>0</td>\n",
       "      <td>16</td>\n",
       "      <td>2</td>\n",
       "      <td>33</td>\n",
       "      <td>3</td>\n",
       "    </tr>\n",
       "    <tr>\n",
       "      <th>3</th>\n",
       "      <td>2017-08-16</td>\n",
       "      <td>1</td>\n",
       "      <td>103520</td>\n",
       "      <td>0</td>\n",
       "      <td>2017</td>\n",
       "      <td>8</td>\n",
       "      <td>0</td>\n",
       "      <td>16</td>\n",
       "      <td>2</td>\n",
       "      <td>33</td>\n",
       "      <td>3</td>\n",
       "    </tr>\n",
       "    <tr>\n",
       "      <th>4</th>\n",
       "      <td>2017-08-16</td>\n",
       "      <td>1</td>\n",
       "      <td>103665</td>\n",
       "      <td>0</td>\n",
       "      <td>2017</td>\n",
       "      <td>8</td>\n",
       "      <td>0</td>\n",
       "      <td>16</td>\n",
       "      <td>2</td>\n",
       "      <td>33</td>\n",
       "      <td>3</td>\n",
       "    </tr>\n",
       "  </tbody>\n",
       "</table>\n",
       "</div>"
      ],
      "text/plain": [
       "        date  store_nbr  item_nbr  onpromotion  year  month  is_weekend  day  \\\n",
       "0 2017-08-16          1     96995            0  2017      8           0   16   \n",
       "1 2017-08-16          1     99197            0  2017      8           0   16   \n",
       "2 2017-08-16          1    103501            0  2017      8           0   16   \n",
       "3 2017-08-16          1    103520            0  2017      8           0   16   \n",
       "4 2017-08-16          1    103665            0  2017      8           0   16   \n",
       "\n",
       "   dayofweek  weekofyear  quarter  \n",
       "0          2          33        3  \n",
       "1          2          33        3  \n",
       "2          2          33        3  \n",
       "3          2          33        3  \n",
       "4          2          33        3  "
      ]
     },
     "execution_count": 321,
     "metadata": {},
     "output_type": "execute_result"
    }
   ],
   "source": [
    "test.head()"
   ]
  },
  {
   "cell_type": "markdown",
   "id": "7dee5d07-26c9-45da-937e-446cf1d24608",
   "metadata": {},
   "source": [
    "## train.csv"
   ]
  },
  {
   "cell_type": "code",
   "execution_count": 370,
   "id": "faf38965-64c4-476d-ab9e-4664418f05c5",
   "metadata": {},
   "outputs": [
    {
     "data": {
      "text/html": [
       "<div>\n",
       "<style scoped>\n",
       "    .dataframe tbody tr th:only-of-type {\n",
       "        vertical-align: middle;\n",
       "    }\n",
       "\n",
       "    .dataframe tbody tr th {\n",
       "        vertical-align: top;\n",
       "    }\n",
       "\n",
       "    .dataframe thead th {\n",
       "        text-align: right;\n",
       "    }\n",
       "</style>\n",
       "<table border=\"1\" class=\"dataframe\">\n",
       "  <thead>\n",
       "    <tr style=\"text-align: right;\">\n",
       "      <th></th>\n",
       "      <th>date</th>\n",
       "      <th>store_nbr</th>\n",
       "      <th>item_nbr</th>\n",
       "      <th>unit_sales</th>\n",
       "      <th>onpromotion</th>\n",
       "    </tr>\n",
       "  </thead>\n",
       "  <tbody>\n",
       "    <tr>\n",
       "      <th>0</th>\n",
       "      <td>2016-01-01</td>\n",
       "      <td>25</td>\n",
       "      <td>105574</td>\n",
       "      <td>12.0</td>\n",
       "      <td>0</td>\n",
       "    </tr>\n",
       "    <tr>\n",
       "      <th>1</th>\n",
       "      <td>2016-01-01</td>\n",
       "      <td>25</td>\n",
       "      <td>105575</td>\n",
       "      <td>9.0</td>\n",
       "      <td>0</td>\n",
       "    </tr>\n",
       "    <tr>\n",
       "      <th>2</th>\n",
       "      <td>2016-01-01</td>\n",
       "      <td>25</td>\n",
       "      <td>105857</td>\n",
       "      <td>3.0</td>\n",
       "      <td>0</td>\n",
       "    </tr>\n",
       "    <tr>\n",
       "      <th>3</th>\n",
       "      <td>2016-01-01</td>\n",
       "      <td>25</td>\n",
       "      <td>108634</td>\n",
       "      <td>3.0</td>\n",
       "      <td>0</td>\n",
       "    </tr>\n",
       "    <tr>\n",
       "      <th>4</th>\n",
       "      <td>2016-01-01</td>\n",
       "      <td>25</td>\n",
       "      <td>108701</td>\n",
       "      <td>2.0</td>\n",
       "      <td>1</td>\n",
       "    </tr>\n",
       "    <tr>\n",
       "      <th>5</th>\n",
       "      <td>2016-01-01</td>\n",
       "      <td>25</td>\n",
       "      <td>108786</td>\n",
       "      <td>2.0</td>\n",
       "      <td>0</td>\n",
       "    </tr>\n",
       "    <tr>\n",
       "      <th>6</th>\n",
       "      <td>2016-01-01</td>\n",
       "      <td>25</td>\n",
       "      <td>108797</td>\n",
       "      <td>1.0</td>\n",
       "      <td>0</td>\n",
       "    </tr>\n",
       "    <tr>\n",
       "      <th>7</th>\n",
       "      <td>2016-01-01</td>\n",
       "      <td>25</td>\n",
       "      <td>108952</td>\n",
       "      <td>12.0</td>\n",
       "      <td>0</td>\n",
       "    </tr>\n",
       "    <tr>\n",
       "      <th>8</th>\n",
       "      <td>2016-01-01</td>\n",
       "      <td>25</td>\n",
       "      <td>111397</td>\n",
       "      <td>5.0</td>\n",
       "      <td>0</td>\n",
       "    </tr>\n",
       "    <tr>\n",
       "      <th>9</th>\n",
       "      <td>2016-01-01</td>\n",
       "      <td>25</td>\n",
       "      <td>114790</td>\n",
       "      <td>4.0</td>\n",
       "      <td>0</td>\n",
       "    </tr>\n",
       "  </tbody>\n",
       "</table>\n",
       "</div>"
      ],
      "text/plain": [
       "        date  store_nbr  item_nbr  unit_sales  onpromotion\n",
       "0 2016-01-01         25    105574        12.0            0\n",
       "1 2016-01-01         25    105575         9.0            0\n",
       "2 2016-01-01         25    105857         3.0            0\n",
       "3 2016-01-01         25    108634         3.0            0\n",
       "4 2016-01-01         25    108701         2.0            1\n",
       "5 2016-01-01         25    108786         2.0            0\n",
       "6 2016-01-01         25    108797         1.0            0\n",
       "7 2016-01-01         25    108952        12.0            0\n",
       "8 2016-01-01         25    111397         5.0            0\n",
       "9 2016-01-01         25    114790         4.0            0"
      ]
     },
     "execution_count": 370,
     "metadata": {},
     "output_type": "execute_result"
    }
   ],
   "source": [
    "train = pd.read_parquet('Data/train_reduced.parquet')\n",
    "train = train[train['date'] >= '2016-01-01']\n",
    "train.reset_index(drop=True, inplace=True)\n",
    "train.head(10)"
   ]
  },
  {
   "cell_type": "code",
   "execution_count": 26,
   "id": "40fb5060-78ca-4c16-aa63-e8294a68871c",
   "metadata": {},
   "outputs": [
    {
     "name": "stdout",
     "output_type": "stream",
     "text": [
      "<class 'pandas.core.frame.DataFrame'>\n",
      "RangeIndex: 59034253 entries, 0 to 59034252\n",
      "Data columns (total 5 columns):\n",
      " #   Column       Dtype         \n",
      "---  ------       -----         \n",
      " 0   date         datetime64[ns]\n",
      " 1   store_nbr    int16         \n",
      " 2   item_nbr     int32         \n",
      " 3   unit_sales   float32       \n",
      " 4   onpromotion  int8          \n",
      "dtypes: datetime64[ns](1), float32(1), int16(1), int32(1), int8(1)\n",
      "memory usage: 1.0 GB\n"
     ]
    }
   ],
   "source": [
    "train.info(memory_usage=\"deep\")"
   ]
  },
  {
   "cell_type": "code",
   "execution_count": 27,
   "id": "171bbe36-815d-4ddc-819b-cd4b42e36c13",
   "metadata": {},
   "outputs": [
    {
     "data": {
      "text/plain": [
       "(59034253, 5)"
      ]
     },
     "execution_count": 27,
     "metadata": {},
     "output_type": "execute_result"
    }
   ],
   "source": [
    "train.shape"
   ]
  },
  {
   "cell_type": "code",
   "execution_count": 28,
   "id": "1a3f7b21-6d38-4060-a50c-97edd0cb82e4",
   "metadata": {},
   "outputs": [
    {
     "name": "stdout",
     "output_type": "stream",
     "text": [
      "date           0\n",
      "store_nbr      0\n",
      "item_nbr       0\n",
      "unit_sales     0\n",
      "onpromotion    0\n",
      "dtype: int64\n"
     ]
    }
   ],
   "source": [
    "print(train.isnull().sum())"
   ]
  },
  {
   "cell_type": "code",
   "execution_count": 29,
   "id": "7f98a64d-8fe9-4cf2-99b0-d9ee062c7a80",
   "metadata": {},
   "outputs": [],
   "source": [
    "#train['onpromotion'].value_counts()"
   ]
  },
  {
   "cell_type": "code",
   "execution_count": 30,
   "id": "b49f081a-a253-4755-a719-c90beb1189e1",
   "metadata": {},
   "outputs": [],
   "source": [
    "#train[\"onpromotion\"] = train[\"onpromotion\"].astype(str)\n",
    "#train[\"onpromotion\"] = train[\"onpromotion\"].replace(\"nan\", \"False\") \n",
    "#train[\"onpromotion\"] = train[\"onpromotion\"].map({\"False\": 0, \"True\": 1}).astype(\"int8\")\n",
    "#train['onpromotion']"
   ]
  },
  {
   "cell_type": "code",
   "execution_count": 31,
   "id": "328023e8-93e9-4823-a88f-98c740f4746d",
   "metadata": {},
   "outputs": [],
   "source": [
    "#train['date']=pd.to_datetime(train['date'] , format= '%Y-%m-%d')\n",
    "#train['date']"
   ]
  },
  {
   "cell_type": "code",
   "execution_count": 32,
   "id": "cc38780b-9fca-4fc9-8e0e-28e9c00652f7",
   "metadata": {},
   "outputs": [
    {
     "data": {
      "text/plain": [
       "date           datetime64[ns]\n",
       "store_nbr               int16\n",
       "item_nbr                int32\n",
       "unit_sales            float32\n",
       "onpromotion              int8\n",
       "dtype: object"
      ]
     },
     "execution_count": 32,
     "metadata": {},
     "output_type": "execute_result"
    }
   ],
   "source": [
    "train.dtypes"
   ]
  },
  {
   "cell_type": "code",
   "execution_count": 24,
   "id": "91aa22e2-7239-4597-89a9-68cdd7dd0b50",
   "metadata": {},
   "outputs": [
    {
     "data": {
      "text/plain": [
       "0"
      ]
     },
     "execution_count": 24,
     "metadata": {},
     "output_type": "execute_result"
    }
   ],
   "source": [
    "train_duplicates = train.duplicated().sum()\n",
    "train_duplicates"
   ]
  },
  {
   "cell_type": "code",
   "execution_count": 25,
   "id": "7d99a599-1c5c-4840-86a4-6e6e22481deb",
   "metadata": {},
   "outputs": [
    {
     "name": "stdout",
     "output_type": "stream",
     "text": [
      "count    5.903425e+07\n",
      "mean     8.180618e+00\n",
      "std      2.636123e+01\n",
      "min      1.000000e-03\n",
      "25%      2.000000e+00\n",
      "50%      4.000000e+00\n",
      "75%      8.000000e+00\n",
      "max      8.944000e+04\n",
      "Name: unit_sales, dtype: float64\n"
     ]
    }
   ],
   "source": [
    "print(train[\"unit_sales\"].describe())"
   ]
  },
  {
   "cell_type": "code",
   "execution_count": 26,
   "id": "248a7c32-d80d-4130-9a8d-c1fd41a06b27",
   "metadata": {},
   "outputs": [
    {
     "data": {
      "image/png": "[encoded data removed]",
      "text/plain": [
       "<Figure size 1200x600 with 1 Axes>"
      ]
     },
     "metadata": {},
     "output_type": "display_data"
    }
   ],
   "source": [
    "# to see outliers clearly\n",
    "#plt.figure(figsize=(12,6))\n",
    "#sns.boxplot(x=train[\"unit_sales\"])\n",
    "#plt.show()"
   ]
  },
  {
   "cell_type": "code",
   "execution_count": 58,
   "id": "4560d7b2-887c-4ee0-a965-bfae3a45fa9a",
   "metadata": {},
   "outputs": [
    {
     "data": {
      "text/plain": [
       "(87.26431083679199, -70.90307426452637)"
      ]
     },
     "execution_count": 58,
     "metadata": {},
     "output_type": "execute_result"
    }
   ],
   "source": [
    "#Z-Score\n",
    "# مش مناسب لتوزيع البيانات\n",
    "#upper_limit = train['unit_sales'].mean() + 3*train['unit_sales'].std()\n",
    "#lower_limit = train['unit_sales'].mean() - 3*train['unit_sales'].std()\n",
    "#upper_limit, lower_limit"
   ]
  },
  {
   "cell_type": "code",
   "execution_count": 74,
   "id": "220e7e89-d044-4f3b-8232-e7dc77c9b74a",
   "metadata": {
    "scrolled": true
   },
   "outputs": [
    {
     "data": {
      "text/plain": [
       "377725"
      ]
     },
     "execution_count": 74,
     "metadata": {},
     "output_type": "execute_result"
    }
   ],
   "source": [
    "#outliers = ((train['unit_sales'] > upper_limit) | (train['unit_sales'] < lower_limit))\n",
    "#outliers.sum()"
   ]
  },
  {
   "cell_type": "code",
   "execution_count": 80,
   "id": "613ae869-3e97-4b7f-b384-0d5fca216dd1",
   "metadata": {},
   "outputs": [
    {
     "data": {
      "text/plain": [
       "(2.0, 8.0, 6.0)"
      ]
     },
     "execution_count": 80,
     "metadata": {},
     "output_type": "execute_result"
    }
   ],
   "source": [
    "#IQR\n",
    "# بيحذف بيانات كتيره\n",
    "#q1 = train['unit_sales'].quantile(0.25)\n",
    "#q3 = train['unit_sales'].quantile(0.75)\n",
    "#iqr = q3 - q1\n",
    "#q1, q3, iqr"
   ]
  },
  {
   "cell_type": "code",
   "execution_count": 82,
   "id": "0be31e3c-3837-4da2-8c73-a64904fe0928",
   "metadata": {},
   "outputs": [
    {
     "data": {
      "text/plain": [
       "(17.0, -7.0)"
      ]
     },
     "execution_count": 82,
     "metadata": {},
     "output_type": "execute_result"
    }
   ],
   "source": [
    "#upper_limit = q3 + (1.5*iqr)\n",
    "#lower_limit = q1 - (1.5*iqr)\n",
    "#upper_limit, lower_limit"
   ]
  },
  {
   "cell_type": "code",
   "execution_count": 84,
   "id": "a6447580-dfd5-4ad6-a00e-8661a05f9aff",
   "metadata": {},
   "outputs": [
    {
     "data": {
      "text/plain": [
       "5832099"
      ]
     },
     "execution_count": 84,
     "metadata": {},
     "output_type": "execute_result"
    }
   ],
   "source": [
    "#outliers = ((train['unit_sales'] > upper_limit) | (train['unit_sales'] < lower_limit))\n",
    "#outliers.sum()"
   ]
  },
  {
   "cell_type": "code",
   "execution_count": 372,
   "id": "74ba0cb5-70b9-4c36-9f74-56442df2d706",
   "metadata": {},
   "outputs": [
    {
     "data": {
      "text/plain": [
       "(69.0, 1.0)"
      ]
     },
     "execution_count": 372,
     "metadata": {},
     "output_type": "execute_result"
    }
   ],
   "source": [
    "#percentile\n",
    "upper_limit = train['unit_sales'].quantile(0.99)\n",
    "lower_limit = train['unit_sales'].quantile(0.01)\n",
    "upper_limit, lower_limit"
   ]
  },
  {
   "cell_type": "code",
   "execution_count": 373,
   "id": "c988b495-8bf4-4272-820b-a170210b3e92",
   "metadata": {},
   "outputs": [
    {
     "data": {
      "text/plain": [
       "852948"
      ]
     },
     "execution_count": 373,
     "metadata": {},
     "output_type": "execute_result"
    }
   ],
   "source": [
    "outliers = ((train['unit_sales'] > upper_limit) | (train['unit_sales'] < lower_limit))\n",
    "outliers.sum()"
   ]
  },
  {
   "cell_type": "code",
   "execution_count": 374,
   "id": "02d937ed-3342-47b5-bbe7-5224480e3426",
   "metadata": {},
   "outputs": [],
   "source": [
    "#Capping\n",
    "train.loc[(train['unit_sales']>upper_limit), 'unit_sales'] = upper_limit\n",
    "train.loc[(train['unit_sales']<lower_limit), 'unit_sales'] = lower_limit"
   ]
  },
  {
   "cell_type": "code",
   "execution_count": 98,
   "id": "12419d45-eda4-4d2e-853e-d16170215110",
   "metadata": {},
   "outputs": [
    {
     "data": {
      "image/png": "[encoded data removed]",
      "text/plain": [
       "<Figure size 1200x600 with 1 Axes>"
      ]
     },
     "metadata": {},
     "output_type": "display_data"
    }
   ],
   "source": [
    "#plt.figure(figsize=(12,6))\n",
    "#sns.boxplot(x=train[\"unit_sales\"])\n",
    "#plt.show()"
   ]
  },
  {
   "cell_type": "code",
   "execution_count": 104,
   "id": "61bdc106-9013-4124-bd5c-faec9e38be74",
   "metadata": {},
   "outputs": [
    {
     "name": "stdout",
     "output_type": "stream",
     "text": [
      "count    5.903425e+07\n",
      "mean     7.512209e+00\n",
      "std      1.041098e+01\n",
      "min      1.000000e+00\n",
      "25%      2.000000e+00\n",
      "50%      4.000000e+00\n",
      "75%      8.000000e+00\n",
      "max      6.900000e+01\n",
      "Name: unit_sales, dtype: float64\n"
     ]
    }
   ],
   "source": [
    "print(train[\"unit_sales\"].describe())"
   ]
  },
  {
   "cell_type": "code",
   "execution_count": 378,
   "id": "da31a0aa-8d09-4c24-948d-517ed7692804",
   "metadata": {},
   "outputs": [],
   "source": [
    "#Logarithmic Transformation\n",
    "train[\"unit_sales\"] = np.log1p(train[\"unit_sales\"])"
   ]
  },
  {
   "cell_type": "code",
   "execution_count": 110,
   "id": "9fc1534b-244e-4602-81f9-75aefd94359b",
   "metadata": {},
   "outputs": [
    {
     "data": {
      "image/png": "[encoded data removed]",
      "text/plain": [
       "<Figure size 1200x600 with 1 Axes>"
      ]
     },
     "metadata": {},
     "output_type": "display_data"
    }
   ],
   "source": [
    "#plt.figure(figsize=(12,6))\n",
    "#sns.boxplot(x=train[\"unit_sales\"])\n",
    "#plt.show()"
   ]
  },
  {
   "cell_type": "code",
   "execution_count": 111,
   "id": "421297e7-ecf4-4106-92a2-1f94d2201373",
   "metadata": {},
   "outputs": [
    {
     "name": "stdout",
     "output_type": "stream",
     "text": [
      "count    5.903425e+07\n",
      "mean     1.703571e+00\n",
      "std      9.279683e-01\n",
      "min      6.931472e-01\n",
      "25%      1.098612e+00\n",
      "50%      1.609438e+00\n",
      "75%      2.197225e+00\n",
      "max      4.248495e+00\n",
      "Name: unit_sales, dtype: float64\n"
     ]
    }
   ],
   "source": [
    "print(train[\"unit_sales\"].describe())"
   ]
  },
  {
   "cell_type": "code",
   "execution_count": 114,
   "id": "1470d85b-de40-405a-ac7e-c1f4f1acee98",
   "metadata": {},
   "outputs": [],
   "source": [
    "#train = train.loc[train[\"unit_sales\"] >= 0]"
   ]
  },
  {
   "cell_type": "code",
   "execution_count": 380,
   "id": "6876ac4b-e923-404a-b518-24b469ed08dd",
   "metadata": {},
   "outputs": [],
   "source": [
    "# time based features\n",
    "train['year'] = train['date'].dt.year\n",
    "train['month'] = train['date'].dt.month\n",
    "train['is_weekend'] = train['date'].dt.dayofweek >= 5\n",
    "train['is_weekend'] = train['is_weekend'].astype(int)\n",
    "train['day'] = train['date'].dt.day\n",
    "train['dayofweek'] = train['date'].dt.dayofweek\n",
    "train['weekofyear'] = train['date'].dt.isocalendar().week\n",
    "train['quarter'] = train['date'].dt.quarter"
   ]
  },
  {
   "cell_type": "code",
   "execution_count": 382,
   "id": "ea579a65-847a-4977-8892-d58492f28589",
   "metadata": {},
   "outputs": [],
   "source": [
    "train['lag_7'] = train['unit_sales'].shift(7).fillna(0)"
   ]
  },
  {
   "cell_type": "code",
   "execution_count": 384,
   "id": "2355a4ee-905b-4d68-92ee-2a79fe181fb5",
   "metadata": {},
   "outputs": [],
   "source": [
    "train['rolling_mean_7'] = train.groupby(['store_nbr', 'item_nbr'])['unit_sales'].transform(lambda x: x.rolling(window=7, min_periods=1).mean())"
   ]
  },
  {
   "cell_type": "code",
   "execution_count": 386,
   "id": "394d4d86-b578-4c37-a655-1289ea1bba78",
   "metadata": {},
   "outputs": [],
   "source": [
    "train['rolling_mean_30'] = train.groupby(['store_nbr', 'item_nbr'])['unit_sales'].transform(lambda x: x.rolling(window=30, min_periods=1).mean())"
   ]
  },
  {
   "cell_type": "code",
   "execution_count": 124,
   "id": "42f72b14-5ef9-4887-a1cd-1f7c20047c70",
   "metadata": {},
   "outputs": [],
   "source": [
    "#train.drop(columns=['id'], inplace=True)"
   ]
  },
  {
   "cell_type": "code",
   "execution_count": 332,
   "id": "9ddfca23-daa1-4c3d-bf26-38ae5a6005c5",
   "metadata": {},
   "outputs": [
    {
     "data": {
      "text/html": [
       "<div>\n",
       "<style scoped>\n",
       "    .dataframe tbody tr th:only-of-type {\n",
       "        vertical-align: middle;\n",
       "    }\n",
       "\n",
       "    .dataframe tbody tr th {\n",
       "        vertical-align: top;\n",
       "    }\n",
       "\n",
       "    .dataframe thead th {\n",
       "        text-align: right;\n",
       "    }\n",
       "</style>\n",
       "<table border=\"1\" class=\"dataframe\">\n",
       "  <thead>\n",
       "    <tr style=\"text-align: right;\">\n",
       "      <th></th>\n",
       "      <th>date</th>\n",
       "      <th>store_nbr</th>\n",
       "      <th>item_nbr</th>\n",
       "      <th>unit_sales</th>\n",
       "      <th>onpromotion</th>\n",
       "      <th>year</th>\n",
       "      <th>month</th>\n",
       "      <th>lag_7</th>\n",
       "      <th>rolling_mean_7</th>\n",
       "      <th>rolling_mean_30</th>\n",
       "      <th>...</th>\n",
       "      <th>type</th>\n",
       "      <th>cluster</th>\n",
       "      <th>dcoilwtico</th>\n",
       "      <th>family</th>\n",
       "      <th>is_holiday</th>\n",
       "      <th>day</th>\n",
       "      <th>dayofweek</th>\n",
       "      <th>is_weekend</th>\n",
       "      <th>weekofyear</th>\n",
       "      <th>quarter</th>\n",
       "    </tr>\n",
       "  </thead>\n",
       "  <tbody>\n",
       "    <tr>\n",
       "      <th>55808590</th>\n",
       "      <td>2017-07-16</td>\n",
       "      <td>11</td>\n",
       "      <td>660319</td>\n",
       "      <td>4.219508</td>\n",
       "      <td>1</td>\n",
       "      <td>2017</td>\n",
       "      <td>7</td>\n",
       "      <td>1.609438</td>\n",
       "      <td>3.601851</td>\n",
       "      <td>3.593085</td>\n",
       "      <td>...</td>\n",
       "      <td>1</td>\n",
       "      <td>6</td>\n",
       "      <td>NaN</td>\n",
       "      <td>5</td>\n",
       "      <td>0</td>\n",
       "      <td>16</td>\n",
       "      <td>6</td>\n",
       "      <td>1</td>\n",
       "      <td>28</td>\n",
       "      <td>3</td>\n",
       "    </tr>\n",
       "    <tr>\n",
       "      <th>31615879</th>\n",
       "      <td>2016-11-26</td>\n",
       "      <td>37</td>\n",
       "      <td>1070962</td>\n",
       "      <td>1.945910</td>\n",
       "      <td>1</td>\n",
       "      <td>2016</td>\n",
       "      <td>11</td>\n",
       "      <td>1.098612</td>\n",
       "      <td>1.796955</td>\n",
       "      <td>1.811149</td>\n",
       "      <td>...</td>\n",
       "      <td>3</td>\n",
       "      <td>2</td>\n",
       "      <td>NaN</td>\n",
       "      <td>12</td>\n",
       "      <td>0</td>\n",
       "      <td>26</td>\n",
       "      <td>5</td>\n",
       "      <td>1</td>\n",
       "      <td>47</td>\n",
       "      <td>4</td>\n",
       "    </tr>\n",
       "    <tr>\n",
       "      <th>13704757</th>\n",
       "      <td>2016-05-24</td>\n",
       "      <td>54</td>\n",
       "      <td>1354386</td>\n",
       "      <td>1.098612</td>\n",
       "      <td>1</td>\n",
       "      <td>2016</td>\n",
       "      <td>5</td>\n",
       "      <td>2.995732</td>\n",
       "      <td>1.410727</td>\n",
       "      <td>1.190588</td>\n",
       "      <td>...</td>\n",
       "      <td>2</td>\n",
       "      <td>3</td>\n",
       "      <td>48.04</td>\n",
       "      <td>12</td>\n",
       "      <td>1</td>\n",
       "      <td>24</td>\n",
       "      <td>1</td>\n",
       "      <td>0</td>\n",
       "      <td>21</td>\n",
       "      <td>2</td>\n",
       "    </tr>\n",
       "    <tr>\n",
       "      <th>13391843</th>\n",
       "      <td>2016-05-21</td>\n",
       "      <td>42</td>\n",
       "      <td>1501520</td>\n",
       "      <td>1.098612</td>\n",
       "      <td>0</td>\n",
       "      <td>2016</td>\n",
       "      <td>5</td>\n",
       "      <td>2.708050</td>\n",
       "      <td>0.982765</td>\n",
       "      <td>0.979657</td>\n",
       "      <td>...</td>\n",
       "      <td>3</td>\n",
       "      <td>2</td>\n",
       "      <td>NaN</td>\n",
       "      <td>30</td>\n",
       "      <td>0</td>\n",
       "      <td>21</td>\n",
       "      <td>5</td>\n",
       "      <td>1</td>\n",
       "      <td>20</td>\n",
       "      <td>2</td>\n",
       "    </tr>\n",
       "    <tr>\n",
       "      <th>16534924</th>\n",
       "      <td>2016-06-23</td>\n",
       "      <td>50</td>\n",
       "      <td>1178692</td>\n",
       "      <td>1.098612</td>\n",
       "      <td>0</td>\n",
       "      <td>2016</td>\n",
       "      <td>6</td>\n",
       "      <td>1.609438</td>\n",
       "      <td>1.309931</td>\n",
       "      <td>1.457318</td>\n",
       "      <td>...</td>\n",
       "      <td>0</td>\n",
       "      <td>14</td>\n",
       "      <td>49.34</td>\n",
       "      <td>7</td>\n",
       "      <td>1</td>\n",
       "      <td>23</td>\n",
       "      <td>3</td>\n",
       "      <td>0</td>\n",
       "      <td>25</td>\n",
       "      <td>2</td>\n",
       "    </tr>\n",
       "    <tr>\n",
       "      <th>33909145</th>\n",
       "      <td>2016-12-18</td>\n",
       "      <td>45</td>\n",
       "      <td>1047757</td>\n",
       "      <td>2.484907</td>\n",
       "      <td>1</td>\n",
       "      <td>2016</td>\n",
       "      <td>12</td>\n",
       "      <td>2.639057</td>\n",
       "      <td>2.413739</td>\n",
       "      <td>2.281489</td>\n",
       "      <td>...</td>\n",
       "      <td>0</td>\n",
       "      <td>11</td>\n",
       "      <td>NaN</td>\n",
       "      <td>3</td>\n",
       "      <td>0</td>\n",
       "      <td>18</td>\n",
       "      <td>6</td>\n",
       "      <td>1</td>\n",
       "      <td>50</td>\n",
       "      <td>4</td>\n",
       "    </tr>\n",
       "    <tr>\n",
       "      <th>11389349</th>\n",
       "      <td>2016-04-30</td>\n",
       "      <td>53</td>\n",
       "      <td>584078</td>\n",
       "      <td>2.249817</td>\n",
       "      <td>1</td>\n",
       "      <td>2016</td>\n",
       "      <td>4</td>\n",
       "      <td>2.051299</td>\n",
       "      <td>1.568736</td>\n",
       "      <td>1.466142</td>\n",
       "      <td>...</td>\n",
       "      <td>3</td>\n",
       "      <td>13</td>\n",
       "      <td>NaN</td>\n",
       "      <td>24</td>\n",
       "      <td>1</td>\n",
       "      <td>30</td>\n",
       "      <td>5</td>\n",
       "      <td>1</td>\n",
       "      <td>17</td>\n",
       "      <td>2</td>\n",
       "    </tr>\n",
       "    <tr>\n",
       "      <th>19961148</th>\n",
       "      <td>2016-07-29</td>\n",
       "      <td>33</td>\n",
       "      <td>1920071</td>\n",
       "      <td>1.945910</td>\n",
       "      <td>1</td>\n",
       "      <td>2016</td>\n",
       "      <td>7</td>\n",
       "      <td>1.386294</td>\n",
       "      <td>1.421754</td>\n",
       "      <td>1.245448</td>\n",
       "      <td>...</td>\n",
       "      <td>2</td>\n",
       "      <td>3</td>\n",
       "      <td>41.54</td>\n",
       "      <td>12</td>\n",
       "      <td>0</td>\n",
       "      <td>29</td>\n",
       "      <td>4</td>\n",
       "      <td>0</td>\n",
       "      <td>30</td>\n",
       "      <td>3</td>\n",
       "    </tr>\n",
       "    <tr>\n",
       "      <th>49051236</th>\n",
       "      <td>2017-05-13</td>\n",
       "      <td>30</td>\n",
       "      <td>2083859</td>\n",
       "      <td>1.945910</td>\n",
       "      <td>0</td>\n",
       "      <td>2017</td>\n",
       "      <td>5</td>\n",
       "      <td>1.098612</td>\n",
       "      <td>1.543935</td>\n",
       "      <td>1.437586</td>\n",
       "      <td>...</td>\n",
       "      <td>2</td>\n",
       "      <td>3</td>\n",
       "      <td>NaN</td>\n",
       "      <td>3</td>\n",
       "      <td>1</td>\n",
       "      <td>13</td>\n",
       "      <td>5</td>\n",
       "      <td>1</td>\n",
       "      <td>19</td>\n",
       "      <td>2</td>\n",
       "    </tr>\n",
       "    <tr>\n",
       "      <th>12968563</th>\n",
       "      <td>2016-05-17</td>\n",
       "      <td>11</td>\n",
       "      <td>1457175</td>\n",
       "      <td>1.791759</td>\n",
       "      <td>0</td>\n",
       "      <td>2016</td>\n",
       "      <td>5</td>\n",
       "      <td>0.693147</td>\n",
       "      <td>1.821862</td>\n",
       "      <td>1.947708</td>\n",
       "      <td>...</td>\n",
       "      <td>1</td>\n",
       "      <td>6</td>\n",
       "      <td>48.29</td>\n",
       "      <td>18</td>\n",
       "      <td>0</td>\n",
       "      <td>17</td>\n",
       "      <td>1</td>\n",
       "      <td>0</td>\n",
       "      <td>20</td>\n",
       "      <td>2</td>\n",
       "    </tr>\n",
       "  </tbody>\n",
       "</table>\n",
       "<p>10 rows × 21 columns</p>\n",
       "</div>"
      ],
      "text/plain": [
       "               date  store_nbr  item_nbr  unit_sales  onpromotion  year  \\\n",
       "55808590 2017-07-16         11    660319    4.219508            1  2017   \n",
       "31615879 2016-11-26         37   1070962    1.945910            1  2016   \n",
       "13704757 2016-05-24         54   1354386    1.098612            1  2016   \n",
       "13391843 2016-05-21         42   1501520    1.098612            0  2016   \n",
       "16534924 2016-06-23         50   1178692    1.098612            0  2016   \n",
       "33909145 2016-12-18         45   1047757    2.484907            1  2016   \n",
       "11389349 2016-04-30         53    584078    2.249817            1  2016   \n",
       "19961148 2016-07-29         33   1920071    1.945910            1  2016   \n",
       "49051236 2017-05-13         30   2083859    1.945910            0  2017   \n",
       "12968563 2016-05-17         11   1457175    1.791759            0  2016   \n",
       "\n",
       "          month     lag_7  rolling_mean_7  rolling_mean_30  ...  type  \\\n",
       "55808590      7  1.609438        3.601851         3.593085  ...     1   \n",
       "31615879     11  1.098612        1.796955         1.811149  ...     3   \n",
       "13704757      5  2.995732        1.410727         1.190588  ...     2   \n",
       "13391843      5  2.708050        0.982765         0.979657  ...     3   \n",
       "16534924      6  1.609438        1.309931         1.457318  ...     0   \n",
       "33909145     12  2.639057        2.413739         2.281489  ...     0   \n",
       "11389349      4  2.051299        1.568736         1.466142  ...     3   \n",
       "19961148      7  1.386294        1.421754         1.245448  ...     2   \n",
       "49051236      5  1.098612        1.543935         1.437586  ...     2   \n",
       "12968563      5  0.693147        1.821862         1.947708  ...     1   \n",
       "\n",
       "          cluster  dcoilwtico  family is_holiday  day  dayofweek  is_weekend  \\\n",
       "55808590        6         NaN       5          0   16          6           1   \n",
       "31615879        2         NaN      12          0   26          5           1   \n",
       "13704757        3       48.04      12          1   24          1           0   \n",
       "13391843        2         NaN      30          0   21          5           1   \n",
       "16534924       14       49.34       7          1   23          3           0   \n",
       "33909145       11         NaN       3          0   18          6           1   \n",
       "11389349       13         NaN      24          1   30          5           1   \n",
       "19961148        3       41.54      12          0   29          4           0   \n",
       "49051236        3         NaN       3          1   13          5           1   \n",
       "12968563        6       48.29      18          0   17          1           0   \n",
       "\n",
       "          weekofyear  quarter  \n",
       "55808590          28        3  \n",
       "31615879          47        4  \n",
       "13704757          21        2  \n",
       "13391843          20        2  \n",
       "16534924          25        2  \n",
       "33909145          50        4  \n",
       "11389349          17        2  \n",
       "19961148          30        3  \n",
       "49051236          19        2  \n",
       "12968563          20        2  \n",
       "\n",
       "[10 rows x 21 columns]"
      ]
     },
     "execution_count": 332,
     "metadata": {},
     "output_type": "execute_result"
    }
   ],
   "source": [
    "train.sample(10)"
   ]
  },
  {
   "cell_type": "markdown",
   "id": "31eb8d64-6331-4c06-959a-186bbec22238",
   "metadata": {},
   "source": [
    "## transactions.csv"
   ]
  },
  {
   "cell_type": "code",
   "execution_count": 61,
   "id": "1dc5cc37-d547-4d8e-9e93-117106460197",
   "metadata": {},
   "outputs": [
    {
     "data": {
      "text/html": [
       "<div>\n",
       "<style scoped>\n",
       "    .dataframe tbody tr th:only-of-type {\n",
       "        vertical-align: middle;\n",
       "    }\n",
       "\n",
       "    .dataframe tbody tr th {\n",
       "        vertical-align: top;\n",
       "    }\n",
       "\n",
       "    .dataframe thead th {\n",
       "        text-align: right;\n",
       "    }\n",
       "</style>\n",
       "<table border=\"1\" class=\"dataframe\">\n",
       "  <thead>\n",
       "    <tr style=\"text-align: right;\">\n",
       "      <th></th>\n",
       "      <th>date</th>\n",
       "      <th>store_nbr</th>\n",
       "      <th>transactions</th>\n",
       "    </tr>\n",
       "  </thead>\n",
       "  <tbody>\n",
       "    <tr>\n",
       "      <th>0</th>\n",
       "      <td>2016-01-02</td>\n",
       "      <td>2</td>\n",
       "      <td>6</td>\n",
       "    </tr>\n",
       "    <tr>\n",
       "      <th>1</th>\n",
       "      <td>2016-01-02</td>\n",
       "      <td>16</td>\n",
       "      <td>373</td>\n",
       "    </tr>\n",
       "    <tr>\n",
       "      <th>2</th>\n",
       "      <td>2016-01-02</td>\n",
       "      <td>20</td>\n",
       "      <td>1816</td>\n",
       "    </tr>\n",
       "    <tr>\n",
       "      <th>3</th>\n",
       "      <td>2016-01-02</td>\n",
       "      <td>21</td>\n",
       "      <td>1388</td>\n",
       "    </tr>\n",
       "    <tr>\n",
       "      <th>4</th>\n",
       "      <td>2016-01-02</td>\n",
       "      <td>22</td>\n",
       "      <td>849</td>\n",
       "    </tr>\n",
       "  </tbody>\n",
       "</table>\n",
       "</div>"
      ],
      "text/plain": [
       "         date  store_nbr  transactions\n",
       "0  2016-01-02          2             6\n",
       "1  2016-01-02         16           373\n",
       "2  2016-01-02         20          1816\n",
       "3  2016-01-02         21          1388\n",
       "4  2016-01-02         22           849"
      ]
     },
     "execution_count": 61,
     "metadata": {},
     "output_type": "execute_result"
    }
   ],
   "source": [
    "transactions=pd.read_csv('Data/transactions.csv')\n",
    "transactions = transactions[transactions['date']>='2016-01-01']\n",
    "transactions.reset_index(drop=True, inplace=True)\n",
    "transactions.head()"
   ]
  },
  {
   "cell_type": "code",
   "execution_count": 63,
   "id": "5e7b70bc-d87c-437c-af14-9e04deb78429",
   "metadata": {},
   "outputs": [
    {
     "data": {
      "text/plain": [
       "(31096, 3)"
      ]
     },
     "execution_count": 63,
     "metadata": {},
     "output_type": "execute_result"
    }
   ],
   "source": [
    "transactions.shape"
   ]
  },
  {
   "cell_type": "code",
   "execution_count": 65,
   "id": "199e087c-78fd-4949-87f8-3d9111fb3f49",
   "metadata": {},
   "outputs": [
    {
     "data": {
      "text/plain": [
       "date            object\n",
       "store_nbr        int64\n",
       "transactions     int64\n",
       "dtype: object"
      ]
     },
     "execution_count": 65,
     "metadata": {},
     "output_type": "execute_result"
    }
   ],
   "source": [
    "transactions.dtypes"
   ]
  },
  {
   "cell_type": "code",
   "execution_count": 67,
   "id": "e974f1d7-74da-43b5-881f-08f67ddd9a2a",
   "metadata": {},
   "outputs": [],
   "source": [
    "transactions['date']=pd.to_datetime(transactions['date'] , format= '%Y-%m-%d')"
   ]
  },
  {
   "cell_type": "code",
   "execution_count": 69,
   "id": "ce5a505d-bde4-4c8e-8168-6472a2866f14",
   "metadata": {},
   "outputs": [
    {
     "data": {
      "text/plain": [
       "0"
      ]
     },
     "execution_count": 69,
     "metadata": {},
     "output_type": "execute_result"
    }
   ],
   "source": [
    "transactions_dup=transactions.duplicated().sum()\n",
    "transactions_dup"
   ]
  },
  {
   "cell_type": "code",
   "execution_count": 71,
   "id": "2a4d77e6-59f9-4a3e-8b0c-097e5ef360bd",
   "metadata": {},
   "outputs": [
    {
     "name": "stdout",
     "output_type": "stream",
     "text": [
      "date            0\n",
      "store_nbr       0\n",
      "transactions    0\n",
      "dtype: int64\n"
     ]
    }
   ],
   "source": [
    "print(transactions.isnull().sum())"
   ]
  },
  {
   "cell_type": "code",
   "execution_count": 73,
   "id": "3d7b80f8-9278-4580-8664-cdfff316c651",
   "metadata": {},
   "outputs": [
    {
     "data": {
      "text/plain": [
       "count    31096.000000\n",
       "mean      1641.769777\n",
       "std        939.367664\n",
       "min          5.000000\n",
       "25%       1011.000000\n",
       "50%       1355.000000\n",
       "75%       1971.000000\n",
       "max       8307.000000\n",
       "Name: transactions, dtype: float64"
      ]
     },
     "execution_count": 73,
     "metadata": {},
     "output_type": "execute_result"
    }
   ],
   "source": [
    "transactions['transactions'].describe()"
   ]
  },
  {
   "cell_type": "code",
   "execution_count": 75,
   "id": "3ca1e594-6261-4c28-aea8-fc6ff0b5e327",
   "metadata": {},
   "outputs": [
    {
     "data": {
      "image/png": "[encoded data removed]",
      "text/plain": [
       "<Figure size 1200x600 with 1 Axes>"
      ]
     },
     "metadata": {},
     "output_type": "display_data"
    }
   ],
   "source": [
    "plt.figure(figsize=(12,6))\n",
    "sns.boxplot(x=transactions[\"transactions\"])\n",
    "plt.show()"
   ]
  },
  {
   "cell_type": "code",
   "execution_count": 77,
   "id": "e74422ba-1cc6-40e1-9b49-64ba5ff2c2b0",
   "metadata": {},
   "outputs": [
    {
     "data": {
      "text/plain": [
       "(4743.049999999999, 503.95)"
      ]
     },
     "execution_count": 77,
     "metadata": {},
     "output_type": "execute_result"
    }
   ],
   "source": [
    "upper_limit = transactions['transactions'].quantile(0.99)\n",
    "lower_limit = transactions['transactions'].quantile(0.01)\n",
    "upper_limit, lower_limit"
   ]
  },
  {
   "cell_type": "code",
   "execution_count": 79,
   "id": "3e4eca4a-7896-45e4-bc62-2943f2a28987",
   "metadata": {},
   "outputs": [
    {
     "data": {
      "text/plain": [
       "622"
      ]
     },
     "execution_count": 79,
     "metadata": {},
     "output_type": "execute_result"
    }
   ],
   "source": [
    "outliers = ((transactions['transactions'] > upper_limit) | (transactions['transactions'] < lower_limit))\n",
    "outliers.sum()"
   ]
  },
  {
   "cell_type": "code",
   "execution_count": 81,
   "id": "8393c59e-00e4-4d9f-b64f-9c626892de9d",
   "metadata": {},
   "outputs": [],
   "source": [
    "#Capping\n",
    "transactions.loc[(transactions['transactions']>upper_limit), 'transactions'] = upper_limit\n",
    "transactions.loc[(transactions['transactions']<lower_limit), 'transactions'] = lower_limit"
   ]
  },
  {
   "cell_type": "code",
   "execution_count": 83,
   "id": "4c89c987-5168-4cdb-b591-6da8aa51f3ee",
   "metadata": {},
   "outputs": [
    {
     "data": {
      "image/png": "[encoded data removed]",
      "text/plain": [
       "<Figure size 1200x600 with 1 Axes>"
      ]
     },
     "metadata": {},
     "output_type": "display_data"
    }
   ],
   "source": [
    "plt.figure(figsize=(12,6))\n",
    "sns.boxplot(x=transactions[\"transactions\"])\n",
    "plt.show()"
   ]
  },
  {
   "cell_type": "code",
   "execution_count": 85,
   "id": "4b99c89d-9685-4ef1-86d6-cc6a5e3513fc",
   "metadata": {},
   "outputs": [
    {
     "data": {
      "text/plain": [
       "count    31096.000000\n",
       "mean      1637.253184\n",
       "std        918.478092\n",
       "min        503.950000\n",
       "25%       1011.000000\n",
       "50%       1355.000000\n",
       "75%       1971.000000\n",
       "max       4743.050000\n",
       "Name: transactions, dtype: float64"
      ]
     },
     "execution_count": 85,
     "metadata": {},
     "output_type": "execute_result"
    }
   ],
   "source": [
    "transactions['transactions'].describe()"
   ]
  },
  {
   "cell_type": "code",
   "execution_count": 87,
   "id": "ed65b0f6-62cb-4207-bd17-17a64fc051dc",
   "metadata": {},
   "outputs": [],
   "source": [
    "transactions[\"transactions\"] = np.log1p(transactions[\"transactions\"])"
   ]
  },
  {
   "cell_type": "code",
   "execution_count": 89,
   "id": "af0786d6-ed07-4a5a-9e61-baa373d3c7ff",
   "metadata": {},
   "outputs": [
    {
     "data": {
      "image/png": "[encoded data removed]",
      "text/plain": [
       "<Figure size 1200x600 with 1 Axes>"
      ]
     },
     "metadata": {},
     "output_type": "display_data"
    }
   ],
   "source": [
    "plt.figure(figsize=(12,6))\n",
    "sns.boxplot(x=transactions[\"transactions\"])\n",
    "plt.show()"
   ]
  },
  {
   "cell_type": "code",
   "execution_count": 91,
   "id": "aedfc830-f7ee-4b56-8a3e-d5cd5ea76491",
   "metadata": {},
   "outputs": [
    {
     "data": {
      "text/plain": [
       "count    31096.000000\n",
       "mean         7.266539\n",
       "std          0.509535\n",
       "min          6.224459\n",
       "25%          6.919684\n",
       "50%          7.212294\n",
       "75%          7.586804\n",
       "max          8.464646\n",
       "Name: transactions, dtype: float64"
      ]
     },
     "execution_count": 91,
     "metadata": {},
     "output_type": "execute_result"
    }
   ],
   "source": [
    "transactions['transactions'].describe()"
   ]
  },
  {
   "cell_type": "code",
   "execution_count": 93,
   "id": "504fc143-34d7-4781-8361-ef7b45e85dc8",
   "metadata": {},
   "outputs": [
    {
     "data": {
      "text/html": [
       "<div>\n",
       "<style scoped>\n",
       "    .dataframe tbody tr th:only-of-type {\n",
       "        vertical-align: middle;\n",
       "    }\n",
       "\n",
       "    .dataframe tbody tr th {\n",
       "        vertical-align: top;\n",
       "    }\n",
       "\n",
       "    .dataframe thead th {\n",
       "        text-align: right;\n",
       "    }\n",
       "</style>\n",
       "<table border=\"1\" class=\"dataframe\">\n",
       "  <thead>\n",
       "    <tr style=\"text-align: right;\">\n",
       "      <th></th>\n",
       "      <th>date</th>\n",
       "      <th>store_nbr</th>\n",
       "      <th>transactions</th>\n",
       "      <th>avg_transaction_per_store</th>\n",
       "    </tr>\n",
       "  </thead>\n",
       "  <tbody>\n",
       "    <tr>\n",
       "      <th>0</th>\n",
       "      <td>2016-01-02</td>\n",
       "      <td>2</td>\n",
       "      <td>6.224459</td>\n",
       "      <td>7.539861</td>\n",
       "    </tr>\n",
       "    <tr>\n",
       "      <th>1</th>\n",
       "      <td>2016-01-02</td>\n",
       "      <td>16</td>\n",
       "      <td>6.224459</td>\n",
       "      <td>6.609168</td>\n",
       "    </tr>\n",
       "    <tr>\n",
       "      <th>2</th>\n",
       "      <td>2016-01-02</td>\n",
       "      <td>20</td>\n",
       "      <td>7.504942</td>\n",
       "      <td>7.309688</td>\n",
       "    </tr>\n",
       "    <tr>\n",
       "      <th>3</th>\n",
       "      <td>2016-01-02</td>\n",
       "      <td>21</td>\n",
       "      <td>7.236339</td>\n",
       "      <td>6.940041</td>\n",
       "    </tr>\n",
       "    <tr>\n",
       "      <th>4</th>\n",
       "      <td>2016-01-02</td>\n",
       "      <td>22</td>\n",
       "      <td>6.745236</td>\n",
       "      <td>6.597638</td>\n",
       "    </tr>\n",
       "  </tbody>\n",
       "</table>\n",
       "</div>"
      ],
      "text/plain": [
       "        date  store_nbr  transactions  avg_transaction_per_store\n",
       "0 2016-01-02          2      6.224459                   7.539861\n",
       "1 2016-01-02         16      6.224459                   6.609168\n",
       "2 2016-01-02         20      7.504942                   7.309688\n",
       "3 2016-01-02         21      7.236339                   6.940041\n",
       "4 2016-01-02         22      6.745236                   6.597638"
      ]
     },
     "execution_count": 93,
     "metadata": {},
     "output_type": "execute_result"
    }
   ],
   "source": [
    "transactions['avg_transaction_per_store'] = transactions.groupby(\"store_nbr\")[\"transactions\"].transform(\"mean\")\n",
    "transactions.head()"
   ]
  },
  {
   "cell_type": "code",
   "execution_count": 95,
   "id": "bf324823-f60d-4e95-b987-d84b2601e21c",
   "metadata": {},
   "outputs": [],
   "source": [
    "transactions['transactions']=transactions['transactions'].astype('int32')\n",
    "transactions['store_nbr']=transactions['store_nbr'].astype('int32')"
   ]
  },
  {
   "cell_type": "code",
   "execution_count": 192,
   "id": "eea0224f-03cc-4a70-aa36-c8b41b8a05e5",
   "metadata": {},
   "outputs": [],
   "source": [
    "train = train.merge(transactions[['date','store_nbr','transactions']], on=['date','store_nbr'], how='left')"
   ]
  },
  {
   "cell_type": "code",
   "execution_count": 334,
   "id": "7cd1e613-64dd-4a92-a15c-ef87d7d2a764",
   "metadata": {},
   "outputs": [],
   "source": [
    "test = test.merge(transactions[['date','store_nbr','transactions']], on=['date','store_nbr'], how='left')"
   ]
  },
  {
   "cell_type": "markdown",
   "id": "a3163775-2b49-4611-b4e5-5bef01eae6d1",
   "metadata": {},
   "source": [
    "## stores.csv"
   ]
  },
  {
   "cell_type": "code",
   "execution_count": 99,
   "id": "87492db7-1876-4260-8b44-e4bd07c50bc0",
   "metadata": {},
   "outputs": [
    {
     "data": {
      "text/html": [
       "<div>\n",
       "<style scoped>\n",
       "    .dataframe tbody tr th:only-of-type {\n",
       "        vertical-align: middle;\n",
       "    }\n",
       "\n",
       "    .dataframe tbody tr th {\n",
       "        vertical-align: top;\n",
       "    }\n",
       "\n",
       "    .dataframe thead th {\n",
       "        text-align: right;\n",
       "    }\n",
       "</style>\n",
       "<table border=\"1\" class=\"dataframe\">\n",
       "  <thead>\n",
       "    <tr style=\"text-align: right;\">\n",
       "      <th></th>\n",
       "      <th>store_nbr</th>\n",
       "      <th>city</th>\n",
       "      <th>state</th>\n",
       "      <th>type</th>\n",
       "      <th>cluster</th>\n",
       "    </tr>\n",
       "  </thead>\n",
       "  <tbody>\n",
       "    <tr>\n",
       "      <th>0</th>\n",
       "      <td>1</td>\n",
       "      <td>Quito</td>\n",
       "      <td>Pichincha</td>\n",
       "      <td>D</td>\n",
       "      <td>13</td>\n",
       "    </tr>\n",
       "    <tr>\n",
       "      <th>1</th>\n",
       "      <td>2</td>\n",
       "      <td>Quito</td>\n",
       "      <td>Pichincha</td>\n",
       "      <td>D</td>\n",
       "      <td>13</td>\n",
       "    </tr>\n",
       "    <tr>\n",
       "      <th>2</th>\n",
       "      <td>3</td>\n",
       "      <td>Quito</td>\n",
       "      <td>Pichincha</td>\n",
       "      <td>D</td>\n",
       "      <td>8</td>\n",
       "    </tr>\n",
       "    <tr>\n",
       "      <th>3</th>\n",
       "      <td>4</td>\n",
       "      <td>Quito</td>\n",
       "      <td>Pichincha</td>\n",
       "      <td>D</td>\n",
       "      <td>9</td>\n",
       "    </tr>\n",
       "    <tr>\n",
       "      <th>4</th>\n",
       "      <td>5</td>\n",
       "      <td>Santo Domingo</td>\n",
       "      <td>Santo Domingo de los Tsachilas</td>\n",
       "      <td>D</td>\n",
       "      <td>4</td>\n",
       "    </tr>\n",
       "  </tbody>\n",
       "</table>\n",
       "</div>"
      ],
      "text/plain": [
       "   store_nbr           city                           state type  cluster\n",
       "0          1          Quito                       Pichincha    D       13\n",
       "1          2          Quito                       Pichincha    D       13\n",
       "2          3          Quito                       Pichincha    D        8\n",
       "3          4          Quito                       Pichincha    D        9\n",
       "4          5  Santo Domingo  Santo Domingo de los Tsachilas    D        4"
      ]
     },
     "execution_count": 99,
     "metadata": {},
     "output_type": "execute_result"
    }
   ],
   "source": [
    "stores=pd.read_csv('Data/stores.csv')\n",
    "stores.head()"
   ]
  },
  {
   "cell_type": "code",
   "execution_count": 101,
   "id": "10404c62-6fe5-43e0-aa94-3136093212d1",
   "metadata": {},
   "outputs": [
    {
     "data": {
      "text/plain": [
       "(54, 5)"
      ]
     },
     "execution_count": 101,
     "metadata": {},
     "output_type": "execute_result"
    }
   ],
   "source": [
    "stores.shape"
   ]
  },
  {
   "cell_type": "code",
   "execution_count": 103,
   "id": "fde25802-093c-4345-9d30-e1a84c80e1c9",
   "metadata": {},
   "outputs": [
    {
     "name": "stdout",
     "output_type": "stream",
     "text": [
      "store_nbr    0\n",
      "city         0\n",
      "state        0\n",
      "type         0\n",
      "cluster      0\n",
      "dtype: int64\n"
     ]
    }
   ],
   "source": [
    "print(stores.isnull().sum())"
   ]
  },
  {
   "cell_type": "code",
   "execution_count": 105,
   "id": "36bf73d6-6f3e-443a-8f29-ddb50e74bbd3",
   "metadata": {},
   "outputs": [
    {
     "data": {
      "text/plain": [
       "0"
      ]
     },
     "execution_count": 105,
     "metadata": {},
     "output_type": "execute_result"
    }
   ],
   "source": [
    "stores_duplicates=stores.duplicated().sum()\n",
    "stores_duplicates"
   ]
  },
  {
   "cell_type": "code",
   "execution_count": 107,
   "id": "e1e5ebd9",
   "metadata": {},
   "outputs": [
    {
     "data": {
      "text/plain": [
       "city\n",
       "Quito            18\n",
       "Guayaquil         8\n",
       "Cuenca            3\n",
       "Santo Domingo     3\n",
       "Manta             2\n",
       "Latacunga         2\n",
       "Machala           2\n",
       "Ambato            2\n",
       "Quevedo           1\n",
       "Esmeraldas        1\n",
       "Loja              1\n",
       "Libertad          1\n",
       "Playas            1\n",
       "Daule             1\n",
       "Babahoyo          1\n",
       "Salinas           1\n",
       "Puyo              1\n",
       "Guaranda          1\n",
       "Ibarra            1\n",
       "Riobamba          1\n",
       "Cayambe           1\n",
       "El Carmen         1\n",
       "Name: count, dtype: int64"
      ]
     },
     "execution_count": 107,
     "metadata": {},
     "output_type": "execute_result"
    }
   ],
   "source": [
    "stores['city'].value_counts()"
   ]
  },
  {
   "cell_type": "code",
   "execution_count": 109,
   "id": "b645e2a3",
   "metadata": {},
   "outputs": [
    {
     "data": {
      "text/html": [
       "<div>\n",
       "<style scoped>\n",
       "    .dataframe tbody tr th:only-of-type {\n",
       "        vertical-align: middle;\n",
       "    }\n",
       "\n",
       "    .dataframe tbody tr th {\n",
       "        vertical-align: top;\n",
       "    }\n",
       "\n",
       "    .dataframe thead th {\n",
       "        text-align: right;\n",
       "    }\n",
       "</style>\n",
       "<table border=\"1\" class=\"dataframe\">\n",
       "  <thead>\n",
       "    <tr style=\"text-align: right;\">\n",
       "      <th></th>\n",
       "      <th>store_nbr</th>\n",
       "      <th>city</th>\n",
       "      <th>state</th>\n",
       "      <th>type</th>\n",
       "      <th>cluster</th>\n",
       "    </tr>\n",
       "  </thead>\n",
       "  <tbody>\n",
       "    <tr>\n",
       "      <th>0</th>\n",
       "      <td>1</td>\n",
       "      <td>18</td>\n",
       "      <td>12</td>\n",
       "      <td>3</td>\n",
       "      <td>13</td>\n",
       "    </tr>\n",
       "    <tr>\n",
       "      <th>1</th>\n",
       "      <td>2</td>\n",
       "      <td>18</td>\n",
       "      <td>12</td>\n",
       "      <td>3</td>\n",
       "      <td>13</td>\n",
       "    </tr>\n",
       "    <tr>\n",
       "      <th>2</th>\n",
       "      <td>3</td>\n",
       "      <td>18</td>\n",
       "      <td>12</td>\n",
       "      <td>3</td>\n",
       "      <td>8</td>\n",
       "    </tr>\n",
       "    <tr>\n",
       "      <th>3</th>\n",
       "      <td>4</td>\n",
       "      <td>18</td>\n",
       "      <td>12</td>\n",
       "      <td>3</td>\n",
       "      <td>9</td>\n",
       "    </tr>\n",
       "    <tr>\n",
       "      <th>4</th>\n",
       "      <td>5</td>\n",
       "      <td>21</td>\n",
       "      <td>14</td>\n",
       "      <td>3</td>\n",
       "      <td>4</td>\n",
       "    </tr>\n",
       "  </tbody>\n",
       "</table>\n",
       "</div>"
      ],
      "text/plain": [
       "   store_nbr  city  state  type  cluster\n",
       "0          1    18     12     3       13\n",
       "1          2    18     12     3       13\n",
       "2          3    18     12     3        8\n",
       "3          4    18     12     3        9\n",
       "4          5    21     14     3        4"
      ]
     },
     "execution_count": 109,
     "metadata": {},
     "output_type": "execute_result"
    }
   ],
   "source": [
    "stores['city'] = LabelEncoder().fit_transform(stores['city'])\n",
    "stores['state'] = LabelEncoder().fit_transform(stores['state'])\n",
    "stores['type'] = LabelEncoder().fit_transform(stores['type'])\n",
    "stores.head()"
   ]
  },
  {
   "cell_type": "code",
   "execution_count": 111,
   "id": "a7dc2136",
   "metadata": {},
   "outputs": [
    {
     "data": {
      "text/plain": [
       "store_nbr    int64\n",
       "city         int32\n",
       "state        int32\n",
       "type         int32\n",
       "cluster      int64\n",
       "dtype: object"
      ]
     },
     "execution_count": 111,
     "metadata": {},
     "output_type": "execute_result"
    }
   ],
   "source": [
    "stores.dtypes"
   ]
  },
  {
   "cell_type": "code",
   "execution_count": 113,
   "id": "8b19dd43-36d2-4400-88ce-fdcf6b1e2cb9",
   "metadata": {},
   "outputs": [],
   "source": [
    "stores['store_nbr']=stores['store_nbr'].astype('int32')\n",
    "train = train.merge(stores[['store_nbr','type', 'cluster']], on='store_nbr', how='left')"
   ]
  },
  {
   "cell_type": "code",
   "execution_count": 336,
   "id": "b4f5a77b-818f-4805-8231-214c2514922d",
   "metadata": {},
   "outputs": [],
   "source": [
    "test = test.merge(stores[['store_nbr','type', 'cluster']], on='store_nbr', how='left')"
   ]
  },
  {
   "cell_type": "markdown",
   "id": "66a63dd7-3aeb-48e8-bf71-65e8e03bff6a",
   "metadata": {},
   "source": [
    "## oil.csv"
   ]
  },
  {
   "cell_type": "code",
   "execution_count": 118,
   "id": "cc450552-5580-4ca4-8092-d805b038a472",
   "metadata": {},
   "outputs": [
    {
     "data": {
      "text/html": [
       "<div>\n",
       "<style scoped>\n",
       "    .dataframe tbody tr th:only-of-type {\n",
       "        vertical-align: middle;\n",
       "    }\n",
       "\n",
       "    .dataframe tbody tr th {\n",
       "        vertical-align: top;\n",
       "    }\n",
       "\n",
       "    .dataframe thead th {\n",
       "        text-align: right;\n",
       "    }\n",
       "</style>\n",
       "<table border=\"1\" class=\"dataframe\">\n",
       "  <thead>\n",
       "    <tr style=\"text-align: right;\">\n",
       "      <th></th>\n",
       "      <th>date</th>\n",
       "      <th>dcoilwtico</th>\n",
       "    </tr>\n",
       "  </thead>\n",
       "  <tbody>\n",
       "    <tr>\n",
       "      <th>0</th>\n",
       "      <td>2016-01-01</td>\n",
       "      <td>NaN</td>\n",
       "    </tr>\n",
       "    <tr>\n",
       "      <th>1</th>\n",
       "      <td>2016-01-04</td>\n",
       "      <td>36.81</td>\n",
       "    </tr>\n",
       "    <tr>\n",
       "      <th>2</th>\n",
       "      <td>2016-01-05</td>\n",
       "      <td>35.97</td>\n",
       "    </tr>\n",
       "    <tr>\n",
       "      <th>3</th>\n",
       "      <td>2016-01-06</td>\n",
       "      <td>33.97</td>\n",
       "    </tr>\n",
       "    <tr>\n",
       "      <th>4</th>\n",
       "      <td>2016-01-07</td>\n",
       "      <td>33.29</td>\n",
       "    </tr>\n",
       "  </tbody>\n",
       "</table>\n",
       "</div>"
      ],
      "text/plain": [
       "         date  dcoilwtico\n",
       "0  2016-01-01         NaN\n",
       "1  2016-01-04       36.81\n",
       "2  2016-01-05       35.97\n",
       "3  2016-01-06       33.97\n",
       "4  2016-01-07       33.29"
      ]
     },
     "execution_count": 118,
     "metadata": {},
     "output_type": "execute_result"
    }
   ],
   "source": [
    "oil = pd.read_csv('Data/oil.csv')\n",
    "oil = oil[oil['date']>='2016-01-01']\n",
    "oil.reset_index(drop=True, inplace=True)\n",
    "oil.head()"
   ]
  },
  {
   "cell_type": "code",
   "execution_count": 120,
   "id": "3a49e9a5-c44b-4551-8203-9d78e6552f81",
   "metadata": {},
   "outputs": [
    {
     "data": {
      "text/plain": [
       "(435, 2)"
      ]
     },
     "execution_count": 120,
     "metadata": {},
     "output_type": "execute_result"
    }
   ],
   "source": [
    "oil.shape"
   ]
  },
  {
   "cell_type": "code",
   "execution_count": 122,
   "id": "c02cb126-068c-41bb-80ba-18bc1a68541b",
   "metadata": {},
   "outputs": [
    {
     "name": "stdout",
     "output_type": "stream",
     "text": [
      "date           0\n",
      "dcoilwtico    16\n",
      "dtype: int64\n"
     ]
    }
   ],
   "source": [
    "print(oil.isnull().sum())"
   ]
  },
  {
   "cell_type": "code",
   "execution_count": 124,
   "id": "feb6de3d-474c-4a81-a73c-15ecb8b6d1d3",
   "metadata": {},
   "outputs": [],
   "source": [
    "oil['dcoilwtico'] = oil['dcoilwtico'].bfill()"
   ]
  },
  {
   "cell_type": "code",
   "execution_count": 126,
   "id": "2e57c1b3-5b89-40a3-8c97-f0f8e62c2386",
   "metadata": {},
   "outputs": [
    {
     "data": {
      "text/html": [
       "<div>\n",
       "<style scoped>\n",
       "    .dataframe tbody tr th:only-of-type {\n",
       "        vertical-align: middle;\n",
       "    }\n",
       "\n",
       "    .dataframe tbody tr th {\n",
       "        vertical-align: top;\n",
       "    }\n",
       "\n",
       "    .dataframe thead th {\n",
       "        text-align: right;\n",
       "    }\n",
       "</style>\n",
       "<table border=\"1\" class=\"dataframe\">\n",
       "  <thead>\n",
       "    <tr style=\"text-align: right;\">\n",
       "      <th></th>\n",
       "      <th>date</th>\n",
       "      <th>dcoilwtico</th>\n",
       "    </tr>\n",
       "  </thead>\n",
       "  <tbody>\n",
       "    <tr>\n",
       "      <th>0</th>\n",
       "      <td>2016-01-01</td>\n",
       "      <td>36.81</td>\n",
       "    </tr>\n",
       "    <tr>\n",
       "      <th>1</th>\n",
       "      <td>2016-01-04</td>\n",
       "      <td>36.81</td>\n",
       "    </tr>\n",
       "    <tr>\n",
       "      <th>2</th>\n",
       "      <td>2016-01-05</td>\n",
       "      <td>35.97</td>\n",
       "    </tr>\n",
       "    <tr>\n",
       "      <th>3</th>\n",
       "      <td>2016-01-06</td>\n",
       "      <td>33.97</td>\n",
       "    </tr>\n",
       "    <tr>\n",
       "      <th>4</th>\n",
       "      <td>2016-01-07</td>\n",
       "      <td>33.29</td>\n",
       "    </tr>\n",
       "  </tbody>\n",
       "</table>\n",
       "</div>"
      ],
      "text/plain": [
       "         date  dcoilwtico\n",
       "0  2016-01-01       36.81\n",
       "1  2016-01-04       36.81\n",
       "2  2016-01-05       35.97\n",
       "3  2016-01-06       33.97\n",
       "4  2016-01-07       33.29"
      ]
     },
     "execution_count": 126,
     "metadata": {},
     "output_type": "execute_result"
    }
   ],
   "source": [
    "oil.head()"
   ]
  },
  {
   "cell_type": "code",
   "execution_count": 128,
   "id": "cdf290bf-1fd6-4c48-ac2d-47fc8b1cd08b",
   "metadata": {},
   "outputs": [
    {
     "data": {
      "text/plain": [
       "date           object\n",
       "dcoilwtico    float64\n",
       "dtype: object"
      ]
     },
     "execution_count": 128,
     "metadata": {},
     "output_type": "execute_result"
    }
   ],
   "source": [
    "oil.dtypes"
   ]
  },
  {
   "cell_type": "code",
   "execution_count": 130,
   "id": "82737e17-f0f3-414d-a691-74925e912813",
   "metadata": {},
   "outputs": [],
   "source": [
    "oil['date']=pd.to_datetime(oil['date'] , format= '%Y-%m-%d')"
   ]
  },
  {
   "cell_type": "code",
   "execution_count": 132,
   "id": "76ad8a40-0ab9-4d61-9f30-9c7aae9edb1d",
   "metadata": {},
   "outputs": [],
   "source": [
    "#Moving Average\n",
    "oil['oil_ma7'] = oil['dcoilwtico'].rolling(window=7).mean().fillna(0)"
   ]
  },
  {
   "cell_type": "code",
   "execution_count": 134,
   "id": "67af8b35-7feb-4030-acc9-2615088a4de4",
   "metadata": {},
   "outputs": [],
   "source": [
    "oil['oil_price_change']=oil['dcoilwtico'].pct_change().fillna(0)"
   ]
  },
  {
   "cell_type": "code",
   "execution_count": 136,
   "id": "4fd40e30-39e4-4c73-8467-44ce7f155941",
   "metadata": {},
   "outputs": [
    {
     "data": {
      "text/html": [
       "<div>\n",
       "<style scoped>\n",
       "    .dataframe tbody tr th:only-of-type {\n",
       "        vertical-align: middle;\n",
       "    }\n",
       "\n",
       "    .dataframe tbody tr th {\n",
       "        vertical-align: top;\n",
       "    }\n",
       "\n",
       "    .dataframe thead th {\n",
       "        text-align: right;\n",
       "    }\n",
       "</style>\n",
       "<table border=\"1\" class=\"dataframe\">\n",
       "  <thead>\n",
       "    <tr style=\"text-align: right;\">\n",
       "      <th></th>\n",
       "      <th>date</th>\n",
       "      <th>dcoilwtico</th>\n",
       "      <th>oil_ma7</th>\n",
       "      <th>oil_price_change</th>\n",
       "    </tr>\n",
       "  </thead>\n",
       "  <tbody>\n",
       "    <tr>\n",
       "      <th>0</th>\n",
       "      <td>2016-01-01</td>\n",
       "      <td>36.81</td>\n",
       "      <td>0.0</td>\n",
       "      <td>0.000000</td>\n",
       "    </tr>\n",
       "    <tr>\n",
       "      <th>1</th>\n",
       "      <td>2016-01-04</td>\n",
       "      <td>36.81</td>\n",
       "      <td>0.0</td>\n",
       "      <td>0.000000</td>\n",
       "    </tr>\n",
       "    <tr>\n",
       "      <th>2</th>\n",
       "      <td>2016-01-05</td>\n",
       "      <td>35.97</td>\n",
       "      <td>0.0</td>\n",
       "      <td>-0.022820</td>\n",
       "    </tr>\n",
       "    <tr>\n",
       "      <th>3</th>\n",
       "      <td>2016-01-06</td>\n",
       "      <td>33.97</td>\n",
       "      <td>0.0</td>\n",
       "      <td>-0.055602</td>\n",
       "    </tr>\n",
       "    <tr>\n",
       "      <th>4</th>\n",
       "      <td>2016-01-07</td>\n",
       "      <td>33.29</td>\n",
       "      <td>0.0</td>\n",
       "      <td>-0.020018</td>\n",
       "    </tr>\n",
       "  </tbody>\n",
       "</table>\n",
       "</div>"
      ],
      "text/plain": [
       "        date  dcoilwtico  oil_ma7  oil_price_change\n",
       "0 2016-01-01       36.81      0.0          0.000000\n",
       "1 2016-01-04       36.81      0.0          0.000000\n",
       "2 2016-01-05       35.97      0.0         -0.022820\n",
       "3 2016-01-06       33.97      0.0         -0.055602\n",
       "4 2016-01-07       33.29      0.0         -0.020018"
      ]
     },
     "execution_count": 136,
     "metadata": {},
     "output_type": "execute_result"
    }
   ],
   "source": [
    "oil.head()"
   ]
  },
  {
   "cell_type": "code",
   "execution_count": 138,
   "id": "03f5d517-d328-492f-9d2d-1cd530313bf0",
   "metadata": {},
   "outputs": [
    {
     "name": "stdout",
     "output_type": "stream",
     "text": [
      "date                0\n",
      "dcoilwtico          0\n",
      "oil_ma7             0\n",
      "oil_price_change    0\n",
      "dtype: int64\n"
     ]
    }
   ],
   "source": [
    "print(oil.isnull().sum())"
   ]
  },
  {
   "cell_type": "code",
   "execution_count": 237,
   "id": "7b1b9150-7c40-4553-b709-e0fffc77e39b",
   "metadata": {},
   "outputs": [],
   "source": [
    "train = train.merge(oil[['date', 'dcoilwtico']], on='date', how='left')"
   ]
  },
  {
   "cell_type": "code",
   "execution_count": 338,
   "id": "75f777e0-5d26-41ee-9465-395a83caf0d7",
   "metadata": {},
   "outputs": [],
   "source": [
    "test = test.merge(oil[['date', 'dcoilwtico']], on='date', how='left')"
   ]
  },
  {
   "cell_type": "markdown",
   "id": "56eeabac-9c1a-4fd4-8a60-c6d2129d1cb2",
   "metadata": {},
   "source": [
    "## items.csv"
   ]
  },
  {
   "cell_type": "code",
   "execution_count": 143,
   "id": "1ece618e-19ff-4c9c-b44c-b513d678baa4",
   "metadata": {},
   "outputs": [
    {
     "data": {
      "text/html": [
       "<div>\n",
       "<style scoped>\n",
       "    .dataframe tbody tr th:only-of-type {\n",
       "        vertical-align: middle;\n",
       "    }\n",
       "\n",
       "    .dataframe tbody tr th {\n",
       "        vertical-align: top;\n",
       "    }\n",
       "\n",
       "    .dataframe thead th {\n",
       "        text-align: right;\n",
       "    }\n",
       "</style>\n",
       "<table border=\"1\" class=\"dataframe\">\n",
       "  <thead>\n",
       "    <tr style=\"text-align: right;\">\n",
       "      <th></th>\n",
       "      <th>item_nbr</th>\n",
       "      <th>family</th>\n",
       "      <th>class</th>\n",
       "      <th>perishable</th>\n",
       "    </tr>\n",
       "  </thead>\n",
       "  <tbody>\n",
       "    <tr>\n",
       "      <th>0</th>\n",
       "      <td>96995</td>\n",
       "      <td>GROCERY I</td>\n",
       "      <td>1093</td>\n",
       "      <td>0</td>\n",
       "    </tr>\n",
       "    <tr>\n",
       "      <th>1</th>\n",
       "      <td>99197</td>\n",
       "      <td>GROCERY I</td>\n",
       "      <td>1067</td>\n",
       "      <td>0</td>\n",
       "    </tr>\n",
       "    <tr>\n",
       "      <th>2</th>\n",
       "      <td>103501</td>\n",
       "      <td>CLEANING</td>\n",
       "      <td>3008</td>\n",
       "      <td>0</td>\n",
       "    </tr>\n",
       "    <tr>\n",
       "      <th>3</th>\n",
       "      <td>103520</td>\n",
       "      <td>GROCERY I</td>\n",
       "      <td>1028</td>\n",
       "      <td>0</td>\n",
       "    </tr>\n",
       "    <tr>\n",
       "      <th>4</th>\n",
       "      <td>103665</td>\n",
       "      <td>BREAD/BAKERY</td>\n",
       "      <td>2712</td>\n",
       "      <td>1</td>\n",
       "    </tr>\n",
       "  </tbody>\n",
       "</table>\n",
       "</div>"
      ],
      "text/plain": [
       "   item_nbr        family  class  perishable\n",
       "0     96995     GROCERY I   1093           0\n",
       "1     99197     GROCERY I   1067           0\n",
       "2    103501      CLEANING   3008           0\n",
       "3    103520     GROCERY I   1028           0\n",
       "4    103665  BREAD/BAKERY   2712           1"
      ]
     },
     "execution_count": 143,
     "metadata": {},
     "output_type": "execute_result"
    }
   ],
   "source": [
    "items=pd.read_csv('Data/items.csv')\n",
    "items.head()"
   ]
  },
  {
   "cell_type": "code",
   "execution_count": 145,
   "id": "5eb57b76-7e19-4aed-a064-a5345e109596",
   "metadata": {},
   "outputs": [
    {
     "data": {
      "text/plain": [
       "(4100, 4)"
      ]
     },
     "execution_count": 145,
     "metadata": {},
     "output_type": "execute_result"
    }
   ],
   "source": [
    "items.shape"
   ]
  },
  {
   "cell_type": "code",
   "execution_count": 147,
   "id": "89a891d0-d67f-4308-9148-b48eb13b0860",
   "metadata": {},
   "outputs": [
    {
     "name": "stdout",
     "output_type": "stream",
     "text": [
      "item_nbr      0\n",
      "family        0\n",
      "class         0\n",
      "perishable    0\n",
      "dtype: int64\n"
     ]
    }
   ],
   "source": [
    "print(items.isnull().sum())"
   ]
  },
  {
   "cell_type": "code",
   "execution_count": 149,
   "id": "80e4e3b4-bb8e-49d2-b96c-83d84f4baf9f",
   "metadata": {},
   "outputs": [
    {
     "data": {
      "text/plain": [
       "0"
      ]
     },
     "execution_count": 149,
     "metadata": {},
     "output_type": "execute_result"
    }
   ],
   "source": [
    "items_duplicates=items.duplicated().sum()\n",
    "items_duplicates"
   ]
  },
  {
   "cell_type": "code",
   "execution_count": 151,
   "id": "7236a58e",
   "metadata": {},
   "outputs": [],
   "source": [
    "items['family'] = LabelEncoder().fit_transform(items['family'])"
   ]
  },
  {
   "cell_type": "code",
   "execution_count": 153,
   "id": "4cd0fda9-102b-4f61-a83f-d7d7f88fb82b",
   "metadata": {},
   "outputs": [],
   "source": [
    "items['class_perishable_interaction'] = items['class'] * items['perishable']"
   ]
  },
  {
   "cell_type": "code",
   "execution_count": 155,
   "id": "37389bfd",
   "metadata": {},
   "outputs": [
    {
     "data": {
      "text/html": [
       "<div>\n",
       "<style scoped>\n",
       "    .dataframe tbody tr th:only-of-type {\n",
       "        vertical-align: middle;\n",
       "    }\n",
       "\n",
       "    .dataframe tbody tr th {\n",
       "        vertical-align: top;\n",
       "    }\n",
       "\n",
       "    .dataframe thead th {\n",
       "        text-align: right;\n",
       "    }\n",
       "</style>\n",
       "<table border=\"1\" class=\"dataframe\">\n",
       "  <thead>\n",
       "    <tr style=\"text-align: right;\">\n",
       "      <th></th>\n",
       "      <th>item_nbr</th>\n",
       "      <th>family</th>\n",
       "      <th>class</th>\n",
       "      <th>perishable</th>\n",
       "      <th>class_perishable_interaction</th>\n",
       "    </tr>\n",
       "  </thead>\n",
       "  <tbody>\n",
       "    <tr>\n",
       "      <th>0</th>\n",
       "      <td>96995</td>\n",
       "      <td>12</td>\n",
       "      <td>1093</td>\n",
       "      <td>0</td>\n",
       "      <td>0</td>\n",
       "    </tr>\n",
       "    <tr>\n",
       "      <th>1</th>\n",
       "      <td>99197</td>\n",
       "      <td>12</td>\n",
       "      <td>1067</td>\n",
       "      <td>0</td>\n",
       "      <td>0</td>\n",
       "    </tr>\n",
       "    <tr>\n",
       "      <th>2</th>\n",
       "      <td>103501</td>\n",
       "      <td>7</td>\n",
       "      <td>3008</td>\n",
       "      <td>0</td>\n",
       "      <td>0</td>\n",
       "    </tr>\n",
       "    <tr>\n",
       "      <th>3</th>\n",
       "      <td>103520</td>\n",
       "      <td>12</td>\n",
       "      <td>1028</td>\n",
       "      <td>0</td>\n",
       "      <td>0</td>\n",
       "    </tr>\n",
       "    <tr>\n",
       "      <th>4</th>\n",
       "      <td>103665</td>\n",
       "      <td>5</td>\n",
       "      <td>2712</td>\n",
       "      <td>1</td>\n",
       "      <td>2712</td>\n",
       "    </tr>\n",
       "  </tbody>\n",
       "</table>\n",
       "</div>"
      ],
      "text/plain": [
       "   item_nbr  family  class  perishable  class_perishable_interaction\n",
       "0     96995      12   1093           0                             0\n",
       "1     99197      12   1067           0                             0\n",
       "2    103501       7   3008           0                             0\n",
       "3    103520      12   1028           0                             0\n",
       "4    103665       5   2712           1                          2712"
      ]
     },
     "execution_count": 155,
     "metadata": {},
     "output_type": "execute_result"
    }
   ],
   "source": [
    "items.head()"
   ]
  },
  {
   "cell_type": "code",
   "execution_count": 157,
   "id": "750101b0-7b59-462c-9240-f2da61d191ca",
   "metadata": {},
   "outputs": [],
   "source": [
    "items['family']=items['family'].astype('category')\n",
    "items['perishable']=items['perishable'].astype('int16')\n",
    "items['item_nbr']=items['item_nbr'].astype('int32')"
   ]
  },
  {
   "cell_type": "code",
   "execution_count": 258,
   "id": "e3fc86fe-9f9c-4015-a468-4a6e1b58f89d",
   "metadata": {
    "scrolled": true
   },
   "outputs": [],
   "source": [
    "train = train.merge(items[['item_nbr', 'family']], on='item_nbr', how='left')"
   ]
  },
  {
   "cell_type": "code",
   "execution_count": 340,
   "id": "7367bffa-6ecb-4109-9968-e1c46d6c2b34",
   "metadata": {
    "scrolled": true
   },
   "outputs": [],
   "source": [
    "test = test.merge(items[['item_nbr', 'family']], on='item_nbr', how='left')"
   ]
  },
  {
   "cell_type": "markdown",
   "id": "21fbae8f-90a1-4fe1-a28d-b5e274f3caa5",
   "metadata": {},
   "source": [
    "## holidays_events.csv"
   ]
  },
  {
   "cell_type": "code",
   "execution_count": 162,
   "id": "bbfa5ad2-2bc4-40b1-b86b-5f8dc6b8c46b",
   "metadata": {},
   "outputs": [],
   "source": [
    "holidays_events=pd.read_csv('Data/holidays_events.csv')\n",
    "holidays_events=holidays_events[holidays_events['date']>='2016-01-01']\n",
    "holidays_events.reset_index(drop=True, inplace=True)"
   ]
  },
  {
   "cell_type": "code",
   "execution_count": 164,
   "id": "17bdac53-4bf4-4f25-a5de-4623d40fc21d",
   "metadata": {},
   "outputs": [
    {
     "data": {
      "text/html": [
       "<div>\n",
       "<style scoped>\n",
       "    .dataframe tbody tr th:only-of-type {\n",
       "        vertical-align: middle;\n",
       "    }\n",
       "\n",
       "    .dataframe tbody tr th {\n",
       "        vertical-align: top;\n",
       "    }\n",
       "\n",
       "    .dataframe thead th {\n",
       "        text-align: right;\n",
       "    }\n",
       "</style>\n",
       "<table border=\"1\" class=\"dataframe\">\n",
       "  <thead>\n",
       "    <tr style=\"text-align: right;\">\n",
       "      <th></th>\n",
       "      <th>date</th>\n",
       "      <th>type</th>\n",
       "      <th>locale</th>\n",
       "      <th>locale_name</th>\n",
       "      <th>description</th>\n",
       "      <th>transferred</th>\n",
       "    </tr>\n",
       "  </thead>\n",
       "  <tbody>\n",
       "    <tr>\n",
       "      <th>0</th>\n",
       "      <td>2016-01-01</td>\n",
       "      <td>Holiday</td>\n",
       "      <td>National</td>\n",
       "      <td>Ecuador</td>\n",
       "      <td>Primer dia del ano</td>\n",
       "      <td>False</td>\n",
       "    </tr>\n",
       "    <tr>\n",
       "      <th>1</th>\n",
       "      <td>2016-02-08</td>\n",
       "      <td>Holiday</td>\n",
       "      <td>National</td>\n",
       "      <td>Ecuador</td>\n",
       "      <td>Carnaval</td>\n",
       "      <td>False</td>\n",
       "    </tr>\n",
       "    <tr>\n",
       "      <th>2</th>\n",
       "      <td>2016-02-09</td>\n",
       "      <td>Holiday</td>\n",
       "      <td>National</td>\n",
       "      <td>Ecuador</td>\n",
       "      <td>Carnaval</td>\n",
       "      <td>False</td>\n",
       "    </tr>\n",
       "    <tr>\n",
       "      <th>3</th>\n",
       "      <td>2016-03-02</td>\n",
       "      <td>Holiday</td>\n",
       "      <td>Local</td>\n",
       "      <td>Manta</td>\n",
       "      <td>Fundacion de Manta</td>\n",
       "      <td>False</td>\n",
       "    </tr>\n",
       "    <tr>\n",
       "      <th>4</th>\n",
       "      <td>2016-03-25</td>\n",
       "      <td>Holiday</td>\n",
       "      <td>National</td>\n",
       "      <td>Ecuador</td>\n",
       "      <td>Viernes Santo</td>\n",
       "      <td>False</td>\n",
       "    </tr>\n",
       "  </tbody>\n",
       "</table>\n",
       "</div>"
      ],
      "text/plain": [
       "         date     type    locale locale_name         description  transferred\n",
       "0  2016-01-01  Holiday  National     Ecuador  Primer dia del ano        False\n",
       "1  2016-02-08  Holiday  National     Ecuador            Carnaval        False\n",
       "2  2016-02-09  Holiday  National     Ecuador            Carnaval        False\n",
       "3  2016-03-02  Holiday     Local       Manta  Fundacion de Manta        False\n",
       "4  2016-03-25  Holiday  National     Ecuador       Viernes Santo        False"
      ]
     },
     "execution_count": 164,
     "metadata": {},
     "output_type": "execute_result"
    }
   ],
   "source": [
    "holidays_events.head()"
   ]
  },
  {
   "cell_type": "code",
   "execution_count": 166,
   "id": "effec55b",
   "metadata": {},
   "outputs": [
    {
     "data": {
      "text/plain": [
       "(139, 6)"
      ]
     },
     "execution_count": 166,
     "metadata": {},
     "output_type": "execute_result"
    }
   ],
   "source": [
    "holidays_events.shape"
   ]
  },
  {
   "cell_type": "code",
   "execution_count": 168,
   "id": "f0735cd0-8be4-45c0-b29d-e0db4ab4a189",
   "metadata": {},
   "outputs": [
    {
     "data": {
      "text/plain": [
       "type\n",
       "Holiday       75\n",
       "Event         35\n",
       "Additional    18\n",
       "Transfer       9\n",
       "Bridge         1\n",
       "Work Day       1\n",
       "Name: count, dtype: int64"
      ]
     },
     "execution_count": 168,
     "metadata": {},
     "output_type": "execute_result"
    }
   ],
   "source": [
    "holidays_events['type'].value_counts()"
   ]
  },
  {
   "cell_type": "code",
   "execution_count": 170,
   "id": "dd8c292c-1c7d-4b02-89d4-897236b592da",
   "metadata": {},
   "outputs": [
    {
     "data": {
      "text/plain": [
       "locale_name\n",
       "Ecuador                           77\n",
       "Guayaquil                          5\n",
       "Quito                              5\n",
       "Riobamba                           4\n",
       "Guaranda                           4\n",
       "Latacunga                          4\n",
       "Ambato                             4\n",
       "Cuenca                             3\n",
       "Ibarra                             3\n",
       "Loja                               2\n",
       "Santa Elena                        2\n",
       "Santo Domingo de los Tsachilas     2\n",
       "Quevedo                            2\n",
       "Esmeraldas                         2\n",
       "Santo Domingo                      2\n",
       "Cayambe                            2\n",
       "Manta                              2\n",
       "El Carmen                          2\n",
       "Imbabura                           2\n",
       "Machala                            2\n",
       "Puyo                               2\n",
       "Libertad                           2\n",
       "Cotopaxi                           2\n",
       "Salinas                            2\n",
       "Name: count, dtype: int64"
      ]
     },
     "execution_count": 170,
     "metadata": {},
     "output_type": "execute_result"
    }
   ],
   "source": [
    "holidays_events['locale_name'].value_counts()"
   ]
  },
  {
   "cell_type": "code",
   "execution_count": 172,
   "id": "3fcbb9e8-4a9f-4732-8635-df50a09531dd",
   "metadata": {},
   "outputs": [],
   "source": [
    "holidays_events['type'] = LabelEncoder().fit_transform(holidays_events['type'])\n",
    "holidays_events['locale'] = LabelEncoder().fit_transform(holidays_events['locale'])\n",
    "holidays_events['locale_name'] = LabelEncoder().fit_transform(holidays_events['locale_name'])"
   ]
  },
  {
   "cell_type": "code",
   "execution_count": 174,
   "id": "285ca54b",
   "metadata": {},
   "outputs": [],
   "source": [
    "holidays_events['transferred']=holidays_events['transferred'].astype(int)"
   ]
  },
  {
   "cell_type": "code",
   "execution_count": 176,
   "id": "e70849e1",
   "metadata": {},
   "outputs": [
    {
     "data": {
      "text/plain": [
       "description\n",
       "Carnaval                       4\n",
       "Fundacion de Ibarra            3\n",
       "Fundacion de Cuenca            3\n",
       "Fundacion de Guayaquil         2\n",
       "Cantonizacion de Quevedo       2\n",
       "                              ..\n",
       "Terremoto Manabi+15            1\n",
       "Terremoto Manabi+14            1\n",
       "Terremoto Manabi+13            1\n",
       "Terremoto Manabi+12            1\n",
       "Traslado Fundacion de Quito    1\n",
       "Name: count, Length: 87, dtype: int64"
      ]
     },
     "execution_count": 176,
     "metadata": {},
     "output_type": "execute_result"
    }
   ],
   "source": [
    "holidays_events['description'].value_counts()"
   ]
  },
  {
   "cell_type": "code",
   "execution_count": 178,
   "id": "979725cc",
   "metadata": {},
   "outputs": [],
   "source": [
    "holidays_events.drop(columns=['description'], inplace=True)"
   ]
  },
  {
   "cell_type": "code",
   "execution_count": 180,
   "id": "b55c0bfc",
   "metadata": {},
   "outputs": [
    {
     "data": {
      "text/html": [
       "<div>\n",
       "<style scoped>\n",
       "    .dataframe tbody tr th:only-of-type {\n",
       "        vertical-align: middle;\n",
       "    }\n",
       "\n",
       "    .dataframe tbody tr th {\n",
       "        vertical-align: top;\n",
       "    }\n",
       "\n",
       "    .dataframe thead th {\n",
       "        text-align: right;\n",
       "    }\n",
       "</style>\n",
       "<table border=\"1\" class=\"dataframe\">\n",
       "  <thead>\n",
       "    <tr style=\"text-align: right;\">\n",
       "      <th></th>\n",
       "      <th>date</th>\n",
       "      <th>type</th>\n",
       "      <th>locale</th>\n",
       "      <th>locale_name</th>\n",
       "      <th>transferred</th>\n",
       "    </tr>\n",
       "  </thead>\n",
       "  <tbody>\n",
       "    <tr>\n",
       "      <th>0</th>\n",
       "      <td>2016-01-01</td>\n",
       "      <td>3</td>\n",
       "      <td>1</td>\n",
       "      <td>4</td>\n",
       "      <td>0</td>\n",
       "    </tr>\n",
       "    <tr>\n",
       "      <th>1</th>\n",
       "      <td>2016-02-08</td>\n",
       "      <td>3</td>\n",
       "      <td>1</td>\n",
       "      <td>4</td>\n",
       "      <td>0</td>\n",
       "    </tr>\n",
       "    <tr>\n",
       "      <th>2</th>\n",
       "      <td>2016-02-09</td>\n",
       "      <td>3</td>\n",
       "      <td>1</td>\n",
       "      <td>4</td>\n",
       "      <td>0</td>\n",
       "    </tr>\n",
       "    <tr>\n",
       "      <th>3</th>\n",
       "      <td>2016-03-02</td>\n",
       "      <td>3</td>\n",
       "      <td>0</td>\n",
       "      <td>15</td>\n",
       "      <td>0</td>\n",
       "    </tr>\n",
       "    <tr>\n",
       "      <th>4</th>\n",
       "      <td>2016-03-25</td>\n",
       "      <td>3</td>\n",
       "      <td>1</td>\n",
       "      <td>4</td>\n",
       "      <td>0</td>\n",
       "    </tr>\n",
       "  </tbody>\n",
       "</table>\n",
       "</div>"
      ],
      "text/plain": [
       "         date  type  locale  locale_name  transferred\n",
       "0  2016-01-01     3       1            4            0\n",
       "1  2016-02-08     3       1            4            0\n",
       "2  2016-02-09     3       1            4            0\n",
       "3  2016-03-02     3       0           15            0\n",
       "4  2016-03-25     3       1            4            0"
      ]
     },
     "execution_count": 180,
     "metadata": {},
     "output_type": "execute_result"
    }
   ],
   "source": [
    "holidays_events.head()"
   ]
  },
  {
   "cell_type": "code",
   "execution_count": 182,
   "id": "2b01bbeb",
   "metadata": {},
   "outputs": [
    {
     "name": "stdout",
     "output_type": "stream",
     "text": [
      "date           0\n",
      "type           0\n",
      "locale         0\n",
      "locale_name    0\n",
      "transferred    0\n",
      "dtype: int64\n"
     ]
    }
   ],
   "source": [
    "print(holidays_events.isnull().sum())"
   ]
  },
  {
   "cell_type": "code",
   "execution_count": 184,
   "id": "f78ffe56",
   "metadata": {},
   "outputs": [
    {
     "data": {
      "text/plain": [
       "1"
      ]
     },
     "execution_count": 184,
     "metadata": {},
     "output_type": "execute_result"
    }
   ],
   "source": [
    "holidays_events_dup=holidays_events.duplicated().sum()\n",
    "holidays_events_dup"
   ]
  },
  {
   "cell_type": "code",
   "execution_count": 186,
   "id": "27508c88",
   "metadata": {},
   "outputs": [],
   "source": [
    "holidays_events.drop_duplicates(inplace=True)"
   ]
  },
  {
   "cell_type": "code",
   "execution_count": 188,
   "id": "04b26d62",
   "metadata": {},
   "outputs": [],
   "source": [
    "holidays_events['date']=pd.to_datetime(holidays_events['date'] , format= '%Y-%m-%d')"
   ]
  },
  {
   "cell_type": "code",
   "execution_count": 190,
   "id": "153e2d6a",
   "metadata": {},
   "outputs": [
    {
     "data": {
      "text/plain": [
       "date           datetime64[ns]\n",
       "type                    int32\n",
       "locale                  int32\n",
       "locale_name             int32\n",
       "transferred             int32\n",
       "dtype: object"
      ]
     },
     "execution_count": 190,
     "metadata": {},
     "output_type": "execute_result"
    }
   ],
   "source": [
    "holidays_events.dtypes"
   ]
  },
  {
   "cell_type": "code",
   "execution_count": 192,
   "id": "34d5bbd6-5d78-440f-8600-1a9b96080ff4",
   "metadata": {},
   "outputs": [
    {
     "data": {
      "text/html": [
       "<div>\n",
       "<style scoped>\n",
       "    .dataframe tbody tr th:only-of-type {\n",
       "        vertical-align: middle;\n",
       "    }\n",
       "\n",
       "    .dataframe tbody tr th {\n",
       "        vertical-align: top;\n",
       "    }\n",
       "\n",
       "    .dataframe thead th {\n",
       "        text-align: right;\n",
       "    }\n",
       "</style>\n",
       "<table border=\"1\" class=\"dataframe\">\n",
       "  <thead>\n",
       "    <tr style=\"text-align: right;\">\n",
       "      <th></th>\n",
       "      <th>date</th>\n",
       "      <th>type</th>\n",
       "      <th>locale</th>\n",
       "      <th>locale_name</th>\n",
       "      <th>transferred</th>\n",
       "    </tr>\n",
       "  </thead>\n",
       "  <tbody>\n",
       "    <tr>\n",
       "      <th>0</th>\n",
       "      <td>2016-01-01</td>\n",
       "      <td>3</td>\n",
       "      <td>1</td>\n",
       "      <td>4</td>\n",
       "      <td>0</td>\n",
       "    </tr>\n",
       "    <tr>\n",
       "      <th>1</th>\n",
       "      <td>2016-02-08</td>\n",
       "      <td>3</td>\n",
       "      <td>1</td>\n",
       "      <td>4</td>\n",
       "      <td>0</td>\n",
       "    </tr>\n",
       "    <tr>\n",
       "      <th>2</th>\n",
       "      <td>2016-02-09</td>\n",
       "      <td>3</td>\n",
       "      <td>1</td>\n",
       "      <td>4</td>\n",
       "      <td>0</td>\n",
       "    </tr>\n",
       "    <tr>\n",
       "      <th>3</th>\n",
       "      <td>2016-03-02</td>\n",
       "      <td>3</td>\n",
       "      <td>0</td>\n",
       "      <td>15</td>\n",
       "      <td>0</td>\n",
       "    </tr>\n",
       "    <tr>\n",
       "      <th>4</th>\n",
       "      <td>2016-03-25</td>\n",
       "      <td>3</td>\n",
       "      <td>1</td>\n",
       "      <td>4</td>\n",
       "      <td>0</td>\n",
       "    </tr>\n",
       "  </tbody>\n",
       "</table>\n",
       "</div>"
      ],
      "text/plain": [
       "        date  type  locale  locale_name  transferred\n",
       "0 2016-01-01     3       1            4            0\n",
       "1 2016-02-08     3       1            4            0\n",
       "2 2016-02-09     3       1            4            0\n",
       "3 2016-03-02     3       0           15            0\n",
       "4 2016-03-25     3       1            4            0"
      ]
     },
     "execution_count": 192,
     "metadata": {},
     "output_type": "execute_result"
    }
   ],
   "source": [
    "holidays_events.head()"
   ]
  },
  {
   "cell_type": "code",
   "execution_count": 320,
   "id": "3f4561af-4e05-41ba-b1e8-c3204f721882",
   "metadata": {},
   "outputs": [],
   "source": [
    "train['is_holiday'] = train['date'].isin(holidays_events['date']).astype(int)"
   ]
  },
  {
   "cell_type": "code",
   "execution_count": 342,
   "id": "f42296d2-12f5-43a0-9a7b-45da730775d4",
   "metadata": {},
   "outputs": [],
   "source": [
    "test['is_holiday'] = test['date'].isin(holidays_events['date']).astype(int)"
   ]
  },
  {
   "cell_type": "code",
   "execution_count": 338,
   "id": "2f5a9233-ee5c-4e6c-88ff-2fb9f649a399",
   "metadata": {},
   "outputs": [
    {
     "data": {
      "text/html": [
       "<div>\n",
       "<style scoped>\n",
       "    .dataframe tbody tr th:only-of-type {\n",
       "        vertical-align: middle;\n",
       "    }\n",
       "\n",
       "    .dataframe tbody tr th {\n",
       "        vertical-align: top;\n",
       "    }\n",
       "\n",
       "    .dataframe thead th {\n",
       "        text-align: right;\n",
       "    }\n",
       "</style>\n",
       "<table border=\"1\" class=\"dataframe\">\n",
       "  <thead>\n",
       "    <tr style=\"text-align: right;\">\n",
       "      <th></th>\n",
       "      <th>date</th>\n",
       "      <th>store_nbr</th>\n",
       "      <th>item_nbr</th>\n",
       "      <th>unit_sales</th>\n",
       "      <th>onpromotion</th>\n",
       "      <th>year</th>\n",
       "      <th>month</th>\n",
       "      <th>lag_7</th>\n",
       "      <th>rolling_mean_7</th>\n",
       "      <th>rolling_mean_30</th>\n",
       "      <th>...</th>\n",
       "      <th>type</th>\n",
       "      <th>cluster</th>\n",
       "      <th>dcoilwtico</th>\n",
       "      <th>family</th>\n",
       "      <th>is_holiday</th>\n",
       "      <th>day</th>\n",
       "      <th>dayofweek</th>\n",
       "      <th>is_weekend</th>\n",
       "      <th>weekofyear</th>\n",
       "      <th>quarter</th>\n",
       "    </tr>\n",
       "  </thead>\n",
       "  <tbody>\n",
       "    <tr>\n",
       "      <th>0</th>\n",
       "      <td>2016-01-01</td>\n",
       "      <td>25</td>\n",
       "      <td>105574</td>\n",
       "      <td>2.564949</td>\n",
       "      <td>0</td>\n",
       "      <td>2016</td>\n",
       "      <td>1</td>\n",
       "      <td>0.0</td>\n",
       "      <td>2.564949</td>\n",
       "      <td>2.564949</td>\n",
       "      <td>...</td>\n",
       "      <td>3</td>\n",
       "      <td>1</td>\n",
       "      <td>36.81</td>\n",
       "      <td>12</td>\n",
       "      <td>1</td>\n",
       "      <td>1</td>\n",
       "      <td>4</td>\n",
       "      <td>0</td>\n",
       "      <td>53</td>\n",
       "      <td>1</td>\n",
       "    </tr>\n",
       "    <tr>\n",
       "      <th>1</th>\n",
       "      <td>2016-01-01</td>\n",
       "      <td>25</td>\n",
       "      <td>105575</td>\n",
       "      <td>2.302585</td>\n",
       "      <td>0</td>\n",
       "      <td>2016</td>\n",
       "      <td>1</td>\n",
       "      <td>0.0</td>\n",
       "      <td>2.302585</td>\n",
       "      <td>2.302585</td>\n",
       "      <td>...</td>\n",
       "      <td>3</td>\n",
       "      <td>1</td>\n",
       "      <td>36.81</td>\n",
       "      <td>12</td>\n",
       "      <td>1</td>\n",
       "      <td>1</td>\n",
       "      <td>4</td>\n",
       "      <td>0</td>\n",
       "      <td>53</td>\n",
       "      <td>1</td>\n",
       "    </tr>\n",
       "    <tr>\n",
       "      <th>2</th>\n",
       "      <td>2016-01-01</td>\n",
       "      <td>25</td>\n",
       "      <td>105857</td>\n",
       "      <td>1.386294</td>\n",
       "      <td>0</td>\n",
       "      <td>2016</td>\n",
       "      <td>1</td>\n",
       "      <td>0.0</td>\n",
       "      <td>1.386294</td>\n",
       "      <td>1.386294</td>\n",
       "      <td>...</td>\n",
       "      <td>3</td>\n",
       "      <td>1</td>\n",
       "      <td>36.81</td>\n",
       "      <td>12</td>\n",
       "      <td>1</td>\n",
       "      <td>1</td>\n",
       "      <td>4</td>\n",
       "      <td>0</td>\n",
       "      <td>53</td>\n",
       "      <td>1</td>\n",
       "    </tr>\n",
       "    <tr>\n",
       "      <th>3</th>\n",
       "      <td>2016-01-01</td>\n",
       "      <td>25</td>\n",
       "      <td>108634</td>\n",
       "      <td>1.386294</td>\n",
       "      <td>0</td>\n",
       "      <td>2016</td>\n",
       "      <td>1</td>\n",
       "      <td>0.0</td>\n",
       "      <td>1.386294</td>\n",
       "      <td>1.386294</td>\n",
       "      <td>...</td>\n",
       "      <td>3</td>\n",
       "      <td>1</td>\n",
       "      <td>36.81</td>\n",
       "      <td>12</td>\n",
       "      <td>1</td>\n",
       "      <td>1</td>\n",
       "      <td>4</td>\n",
       "      <td>0</td>\n",
       "      <td>53</td>\n",
       "      <td>1</td>\n",
       "    </tr>\n",
       "    <tr>\n",
       "      <th>4</th>\n",
       "      <td>2016-01-01</td>\n",
       "      <td>25</td>\n",
       "      <td>108701</td>\n",
       "      <td>1.098612</td>\n",
       "      <td>1</td>\n",
       "      <td>2016</td>\n",
       "      <td>1</td>\n",
       "      <td>0.0</td>\n",
       "      <td>1.098612</td>\n",
       "      <td>1.098612</td>\n",
       "      <td>...</td>\n",
       "      <td>3</td>\n",
       "      <td>1</td>\n",
       "      <td>36.81</td>\n",
       "      <td>9</td>\n",
       "      <td>1</td>\n",
       "      <td>1</td>\n",
       "      <td>4</td>\n",
       "      <td>0</td>\n",
       "      <td>53</td>\n",
       "      <td>1</td>\n",
       "    </tr>\n",
       "  </tbody>\n",
       "</table>\n",
       "<p>5 rows × 21 columns</p>\n",
       "</div>"
      ],
      "text/plain": [
       "        date  store_nbr  item_nbr  unit_sales  onpromotion  year  month  \\\n",
       "0 2016-01-01         25    105574    2.564949            0  2016      1   \n",
       "1 2016-01-01         25    105575    2.302585            0  2016      1   \n",
       "2 2016-01-01         25    105857    1.386294            0  2016      1   \n",
       "3 2016-01-01         25    108634    1.386294            0  2016      1   \n",
       "4 2016-01-01         25    108701    1.098612            1  2016      1   \n",
       "\n",
       "   lag_7  rolling_mean_7  rolling_mean_30  ...  type  cluster  dcoilwtico  \\\n",
       "0    0.0        2.564949         2.564949  ...     3        1       36.81   \n",
       "1    0.0        2.302585         2.302585  ...     3        1       36.81   \n",
       "2    0.0        1.386294         1.386294  ...     3        1       36.81   \n",
       "3    0.0        1.386294         1.386294  ...     3        1       36.81   \n",
       "4    0.0        1.098612         1.098612  ...     3        1       36.81   \n",
       "\n",
       "   family is_holiday  day  dayofweek  is_weekend  weekofyear  quarter  \n",
       "0      12          1    1          4           0          53        1  \n",
       "1      12          1    1          4           0          53        1  \n",
       "2      12          1    1          4           0          53        1  \n",
       "3      12          1    1          4           0          53        1  \n",
       "4       9          1    1          4           0          53        1  \n",
       "\n",
       "[5 rows x 21 columns]"
      ]
     },
     "execution_count": 338,
     "metadata": {},
     "output_type": "execute_result"
    }
   ],
   "source": [
    "train.head()"
   ]
  },
  {
   "cell_type": "code",
   "execution_count": 340,
   "id": "4811088a-77c1-46a1-8bb2-7f5eb81336ae",
   "metadata": {},
   "outputs": [
    {
     "data": {
      "text/plain": [
       "date                      0\n",
       "store_nbr                 0\n",
       "item_nbr                  0\n",
       "unit_sales                0\n",
       "onpromotion               0\n",
       "year                      0\n",
       "month                     0\n",
       "lag_7                     0\n",
       "rolling_mean_7            0\n",
       "rolling_mean_30           0\n",
       "transactions         210319\n",
       "type                      0\n",
       "cluster                   0\n",
       "dcoilwtico         17821600\n",
       "family                    0\n",
       "is_holiday                0\n",
       "day                       0\n",
       "dayofweek                 0\n",
       "is_weekend                0\n",
       "weekofyear                0\n",
       "quarter                   0\n",
       "dtype: int64"
      ]
     },
     "execution_count": 340,
     "metadata": {},
     "output_type": "execute_result"
    }
   ],
   "source": [
    "train.isnull().sum()"
   ]
  },
  {
   "cell_type": "code",
   "execution_count": null,
   "id": "b282031b-fdef-4079-b50a-03faed432bf4",
   "metadata": {},
   "outputs": [],
   "source": [
    "duplicates = train.duplicated().sum()\n",
    "duplicates"
   ]
  },
  {
   "cell_type": "code",
   "execution_count": 348,
   "id": "6b38dccc-8ea5-4f22-a4fd-944f0561fa21",
   "metadata": {},
   "outputs": [],
   "source": [
    "train['transactions'] = train['transactions'].fillna(0)\n",
    "train['dcoilwtico'] = train['dcoilwtico'].ffill()"
   ]
  },
  {
   "cell_type": "code",
   "execution_count": 350,
   "id": "ae0b38e5-81a8-471b-8250-b85c081a33e1",
   "metadata": {},
   "outputs": [
    {
     "data": {
      "text/plain": [
       "date               0\n",
       "store_nbr          0\n",
       "item_nbr           0\n",
       "unit_sales         0\n",
       "onpromotion        0\n",
       "year               0\n",
       "month              0\n",
       "lag_7              0\n",
       "rolling_mean_7     0\n",
       "rolling_mean_30    0\n",
       "transactions       0\n",
       "type               0\n",
       "cluster            0\n",
       "dcoilwtico         0\n",
       "family             0\n",
       "is_holiday         0\n",
       "day                0\n",
       "dayofweek          0\n",
       "is_weekend         0\n",
       "weekofyear         0\n",
       "quarter            0\n",
       "dtype: int64"
      ]
     },
     "execution_count": 350,
     "metadata": {},
     "output_type": "execute_result"
    }
   ],
   "source": [
    "train.isnull().sum()"
   ]
  },
  {
   "cell_type": "code",
   "execution_count": 344,
   "id": "d7576140-e2f3-44bf-a111-8e5201e5b3f0",
   "metadata": {},
   "outputs": [
    {
     "data": {
      "text/html": [
       "<div>\n",
       "<style scoped>\n",
       "    .dataframe tbody tr th:only-of-type {\n",
       "        vertical-align: middle;\n",
       "    }\n",
       "\n",
       "    .dataframe tbody tr th {\n",
       "        vertical-align: top;\n",
       "    }\n",
       "\n",
       "    .dataframe thead th {\n",
       "        text-align: right;\n",
       "    }\n",
       "</style>\n",
       "<table border=\"1\" class=\"dataframe\">\n",
       "  <thead>\n",
       "    <tr style=\"text-align: right;\">\n",
       "      <th></th>\n",
       "      <th>date</th>\n",
       "      <th>store_nbr</th>\n",
       "      <th>item_nbr</th>\n",
       "      <th>unit_sales</th>\n",
       "      <th>onpromotion</th>\n",
       "      <th>year</th>\n",
       "      <th>month</th>\n",
       "      <th>is_weekend</th>\n",
       "      <th>day</th>\n",
       "      <th>dayofweek</th>\n",
       "      <th>...</th>\n",
       "      <th>cluster_x</th>\n",
       "      <th>lag_7</th>\n",
       "      <th>rolling_mean_7</th>\n",
       "      <th>rolling_mean_30</th>\n",
       "      <th>transactions</th>\n",
       "      <th>type_y</th>\n",
       "      <th>cluster_y</th>\n",
       "      <th>dcoilwtico</th>\n",
       "      <th>family</th>\n",
       "      <th>is_holiday</th>\n",
       "    </tr>\n",
       "  </thead>\n",
       "  <tbody>\n",
       "    <tr>\n",
       "      <th>0</th>\n",
       "      <td>2017-08-16</td>\n",
       "      <td>1</td>\n",
       "      <td>96995</td>\n",
       "      <td>NaN</td>\n",
       "      <td>0</td>\n",
       "      <td>2017</td>\n",
       "      <td>8</td>\n",
       "      <td>0</td>\n",
       "      <td>16</td>\n",
       "      <td>2</td>\n",
       "      <td>...</td>\n",
       "      <td>NaN</td>\n",
       "      <td>1.098612</td>\n",
       "      <td>1.710736</td>\n",
       "      <td>1.909783</td>\n",
       "      <td>NaN</td>\n",
       "      <td>3</td>\n",
       "      <td>13</td>\n",
       "      <td>46.8</td>\n",
       "      <td>12</td>\n",
       "      <td>0</td>\n",
       "    </tr>\n",
       "    <tr>\n",
       "      <th>1</th>\n",
       "      <td>2017-08-16</td>\n",
       "      <td>1</td>\n",
       "      <td>99197</td>\n",
       "      <td>NaN</td>\n",
       "      <td>0</td>\n",
       "      <td>2017</td>\n",
       "      <td>8</td>\n",
       "      <td>0</td>\n",
       "      <td>16</td>\n",
       "      <td>2</td>\n",
       "      <td>...</td>\n",
       "      <td>NaN</td>\n",
       "      <td>0.693147</td>\n",
       "      <td>1.589693</td>\n",
       "      <td>1.892756</td>\n",
       "      <td>NaN</td>\n",
       "      <td>3</td>\n",
       "      <td>13</td>\n",
       "      <td>46.8</td>\n",
       "      <td>12</td>\n",
       "      <td>0</td>\n",
       "    </tr>\n",
       "    <tr>\n",
       "      <th>2</th>\n",
       "      <td>2017-08-16</td>\n",
       "      <td>1</td>\n",
       "      <td>103501</td>\n",
       "      <td>NaN</td>\n",
       "      <td>0</td>\n",
       "      <td>2017</td>\n",
       "      <td>8</td>\n",
       "      <td>0</td>\n",
       "      <td>16</td>\n",
       "      <td>2</td>\n",
       "      <td>...</td>\n",
       "      <td>NaN</td>\n",
       "      <td>NaN</td>\n",
       "      <td>1.671540</td>\n",
       "      <td>1.920140</td>\n",
       "      <td>NaN</td>\n",
       "      <td>3</td>\n",
       "      <td>13</td>\n",
       "      <td>46.8</td>\n",
       "      <td>7</td>\n",
       "      <td>0</td>\n",
       "    </tr>\n",
       "    <tr>\n",
       "      <th>3</th>\n",
       "      <td>2017-08-16</td>\n",
       "      <td>1</td>\n",
       "      <td>103520</td>\n",
       "      <td>NaN</td>\n",
       "      <td>0</td>\n",
       "      <td>2017</td>\n",
       "      <td>8</td>\n",
       "      <td>0</td>\n",
       "      <td>16</td>\n",
       "      <td>2</td>\n",
       "      <td>...</td>\n",
       "      <td>NaN</td>\n",
       "      <td>1.098612</td>\n",
       "      <td>1.671540</td>\n",
       "      <td>1.920140</td>\n",
       "      <td>NaN</td>\n",
       "      <td>3</td>\n",
       "      <td>13</td>\n",
       "      <td>46.8</td>\n",
       "      <td>12</td>\n",
       "      <td>0</td>\n",
       "    </tr>\n",
       "    <tr>\n",
       "      <th>4</th>\n",
       "      <td>2017-08-16</td>\n",
       "      <td>1</td>\n",
       "      <td>103665</td>\n",
       "      <td>NaN</td>\n",
       "      <td>0</td>\n",
       "      <td>2017</td>\n",
       "      <td>8</td>\n",
       "      <td>0</td>\n",
       "      <td>16</td>\n",
       "      <td>2</td>\n",
       "      <td>...</td>\n",
       "      <td>NaN</td>\n",
       "      <td>0.693147</td>\n",
       "      <td>1.078982</td>\n",
       "      <td>1.888544</td>\n",
       "      <td>NaN</td>\n",
       "      <td>3</td>\n",
       "      <td>13</td>\n",
       "      <td>46.8</td>\n",
       "      <td>5</td>\n",
       "      <td>0</td>\n",
       "    </tr>\n",
       "  </tbody>\n",
       "</table>\n",
       "<p>5 rows × 23 columns</p>\n",
       "</div>"
      ],
      "text/plain": [
       "        date  store_nbr  item_nbr  unit_sales  onpromotion  year  month  \\\n",
       "0 2017-08-16          1     96995         NaN            0  2017      8   \n",
       "1 2017-08-16          1     99197         NaN            0  2017      8   \n",
       "2 2017-08-16          1    103501         NaN            0  2017      8   \n",
       "3 2017-08-16          1    103520         NaN            0  2017      8   \n",
       "4 2017-08-16          1    103665         NaN            0  2017      8   \n",
       "\n",
       "   is_weekend  day  dayofweek  ...  cluster_x     lag_7  rolling_mean_7  \\\n",
       "0           0   16          2  ...        NaN  1.098612        1.710736   \n",
       "1           0   16          2  ...        NaN  0.693147        1.589693   \n",
       "2           0   16          2  ...        NaN       NaN        1.671540   \n",
       "3           0   16          2  ...        NaN  1.098612        1.671540   \n",
       "4           0   16          2  ...        NaN  0.693147        1.078982   \n",
       "\n",
       "   rolling_mean_30  transactions  type_y  cluster_y  dcoilwtico  family  \\\n",
       "0         1.909783           NaN       3         13        46.8      12   \n",
       "1         1.892756           NaN       3         13        46.8      12   \n",
       "2         1.920140           NaN       3         13        46.8       7   \n",
       "3         1.920140           NaN       3         13        46.8      12   \n",
       "4         1.888544           NaN       3         13        46.8       5   \n",
       "\n",
       "   is_holiday  \n",
       "0           0  \n",
       "1           0  \n",
       "2           0  \n",
       "3           0  \n",
       "4           0  \n",
       "\n",
       "[5 rows x 23 columns]"
      ]
     },
     "execution_count": 344,
     "metadata": {},
     "output_type": "execute_result"
    }
   ],
   "source": [
    "test.head()"
   ]
  },
  {
   "cell_type": "code",
   "execution_count": 268,
   "id": "0207bf07-21e3-42f0-acef-bf95d51ce6eb",
   "metadata": {},
   "outputs": [
    {
     "data": {
      "text/plain": [
       "date                     0\n",
       "store_nbr                0\n",
       "item_nbr                 0\n",
       "unit_sales         3370464\n",
       "onpromotion              0\n",
       "year                     0\n",
       "month                    0\n",
       "is_weekend               0\n",
       "day                      0\n",
       "dayofweek                0\n",
       "weekofyear               0\n",
       "quarter                  0\n",
       "lag_7              2232983\n",
       "rolling_mean_7     3298053\n",
       "rolling_mean_30    3358512\n",
       "transactions       3370464\n",
       "type                     0\n",
       "cluster                  0\n",
       "dcoilwtico          842616\n",
       "family                   0\n",
       "is_holiday               0\n",
       "dtype: int64"
      ]
     },
     "execution_count": 268,
     "metadata": {},
     "output_type": "execute_result"
    }
   ],
   "source": [
    "test.isnull().sum()"
   ]
  },
  {
   "cell_type": "code",
   "execution_count": 270,
   "id": "52cf3664-9a15-4229-a4a4-e15012554b3e",
   "metadata": {},
   "outputs": [
    {
     "data": {
      "text/plain": [
       "0"
      ]
     },
     "execution_count": 270,
     "metadata": {},
     "output_type": "execute_result"
    }
   ],
   "source": [
    "duplicates = test.duplicated().sum()\n",
    "duplicates"
   ]
  },
  {
   "cell_type": "code",
   "execution_count": 272,
   "id": "cdc4a5c2-9a61-4abf-9a64-f531ad7c9074",
   "metadata": {},
   "outputs": [],
   "source": [
    "test['transactions'] = test['transactions'].fillna(0)\n",
    "test['dcoilwtico'] = test['dcoilwtico'].ffill()"
   ]
  },
  {
   "cell_type": "code",
   "execution_count": 292,
   "id": "49a635f1-5620-43ea-8e9e-45b33727d112",
   "metadata": {},
   "outputs": [
    {
     "data": {
      "text/plain": [
       "date                     0\n",
       "store_nbr                0\n",
       "item_nbr                 0\n",
       "onpromotion              0\n",
       "year                     0\n",
       "month                    0\n",
       "is_weekend               0\n",
       "day                      0\n",
       "dayofweek                0\n",
       "weekofyear               0\n",
       "quarter                  0\n",
       "lag_7              2232983\n",
       "rolling_mean_7     3298053\n",
       "rolling_mean_30    3358512\n",
       "transactions             0\n",
       "type                     0\n",
       "cluster                  0\n",
       "dcoilwtico               0\n",
       "family                   0\n",
       "is_holiday               0\n",
       "dtype: int64"
      ]
     },
     "execution_count": 292,
     "metadata": {},
     "output_type": "execute_result"
    }
   ],
   "source": [
    "test.isnull().sum()"
   ]
  },
  {
   "cell_type": "code",
   "execution_count": 362,
   "id": "f064f06d-b774-4ce6-b92d-99eaa8d3e70c",
   "metadata": {},
   "outputs": [
    {
     "data": {
      "text/plain": [
       "(59034253, 21)"
      ]
     },
     "execution_count": 362,
     "metadata": {},
     "output_type": "execute_result"
    }
   ],
   "source": [
    "train.shape"
   ]
  },
  {
   "cell_type": "code",
   "execution_count": 298,
   "id": "31bae639-f4f6-4b5e-ba09-3cd83b267539",
   "metadata": {},
   "outputs": [
    {
     "data": {
      "text/plain": [
       "(11896, 20)"
      ]
     },
     "execution_count": 298,
     "metadata": {},
     "output_type": "execute_result"
    }
   ],
   "source": [
    "test_cleaned.shape"
   ]
  },
  {
   "cell_type": "code",
   "execution_count": 300,
   "id": "5e696507-f4cb-4d65-b80c-6d7384fba15f",
   "metadata": {},
   "outputs": [
    {
     "data": {
      "text/plain": [
       "(3370464, 20)"
      ]
     },
     "execution_count": 300,
     "metadata": {},
     "output_type": "execute_result"
    }
   ],
   "source": [
    "test.shape"
   ]
  },
  {
   "cell_type": "code",
   "execution_count": 370,
   "id": "39fe6b1d-e0de-47df-a9fb-64da2d13faac",
   "metadata": {},
   "outputs": [
    {
     "data": {
      "text/plain": [
       "Index(['date', 'store_nbr', 'item_nbr', 'unit_sales', 'onpromotion', 'year',\n",
       "       'month', 'lag_7', 'rolling_mean_7', 'rolling_mean_30', 'transactions',\n",
       "       'type', 'cluster', 'dcoilwtico', 'family', 'is_holiday', 'day',\n",
       "       'dayofweek', 'is_weekend', 'weekofyear', 'quarter'],\n",
       "      dtype='object')"
      ]
     },
     "execution_count": 370,
     "metadata": {},
     "output_type": "execute_result"
    }
   ],
   "source": [
    "train.columns"
   ]
  },
  {
   "cell_type": "code",
   "execution_count": 346,
   "id": "319af75e-0694-4521-898d-998b6da2e9cf",
   "metadata": {},
   "outputs": [
    {
     "data": {
      "text/plain": [
       "Index(['date', 'store_nbr', 'item_nbr', 'unit_sales', 'onpromotion', 'year',\n",
       "       'month', 'is_weekend', 'day', 'dayofweek', 'weekofyear', 'quarter',\n",
       "       'type_x', 'cluster_x', 'lag_7', 'rolling_mean_7', 'rolling_mean_30',\n",
       "       'transactions', 'type_y', 'cluster_y', 'dcoilwtico', 'family',\n",
       "       'is_holiday'],\n",
       "      dtype='object')"
      ]
     },
     "execution_count": 346,
     "metadata": {},
     "output_type": "execute_result"
    }
   ],
   "source": [
    "test.columns"
   ]
  },
  {
   "cell_type": "code",
   "execution_count": 378,
   "id": "1ebeaf0f-a09d-4efd-8504-79f45c3aa7b2",
   "metadata": {},
   "outputs": [],
   "source": [
    "test.to_csv('Cleaned_Data/test.csv', index=False)"
   ]
  },
  {
   "cell_type": "code",
   "execution_count": 379,
   "id": "0a5e2599-2b49-4ff7-958a-36b54f583a90",
   "metadata": {},
   "outputs": [],
   "source": [
    "train.to_parquet('Cleaned_Data/train.parquet', engine=\"pyarrow\", compression=\"snappy\", index=False)"
   ]
  },
  {
   "cell_type": "code",
   "execution_count": 382,
   "id": "2d13548e-c9f5-433f-9f9d-48de9b9632d1",
   "metadata": {},
   "outputs": [],
   "source": [
    "#transactions.to_csv('Cleaned_Data/transactions.csv', index=False)"
   ]
  },
  {
   "cell_type": "code",
   "execution_count": 384,
   "id": "a9277192-4f6a-4262-ae46-a37069667747",
   "metadata": {},
   "outputs": [],
   "source": [
    "#stores.to_csv('Cleaned_Data/stores.csv', index=False)"
   ]
  },
  {
   "cell_type": "code",
   "execution_count": 386,
   "id": "5ee0d3c1-3827-467f-ac0a-80027406c6c7",
   "metadata": {},
   "outputs": [],
   "source": [
    "#oil.to_csv('Cleaned_Data/oil.csv', index=False)"
   ]
  },
  {
   "cell_type": "code",
   "execution_count": 388,
   "id": "3d356e36-cc8e-44af-8f68-90b0ab20878e",
   "metadata": {},
   "outputs": [],
   "source": [
    "#items.to_csv('Cleaned_Data/items.csv', index=False)"
   ]
  },
  {
   "cell_type": "code",
   "execution_count": 390,
   "id": "1ef48dea-b0d3-4219-869c-9141348716eb",
   "metadata": {},
   "outputs": [],
   "source": [
    "#holidays_events.to_csv('Cleaned_Data/holidayes_events.csv', index=False)"
   ]
  },
  {
   "cell_type": "code",
   "execution_count": null,
   "id": "751e02ef-3373-48c3-ad94-d857b37c3782",
   "metadata": {},
   "outputs": [],
   "source": []
  }
 ],
 "metadata": {
  "kernelspec": {
   "display_name": "Python 3 (ipykernel)",
   "language": "python",
   "name": "python3"
  },
  "language_info": {
   "codemirror_mode": {
    "name": "ipython",
    "version": 3
   },
   "file_extension": ".py",
   "mimetype": "text/x-python",
   "name": "python",
   "nbconvert_exporter": "python",
   "pygments_lexer": "ipython3",
   "version": "3.12.7"
  }
 },
 "nbformat": 4,
 "nbformat_minor": 5
}
